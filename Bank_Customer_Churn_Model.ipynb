{
  "nbformat": 4,
  "nbformat_minor": 0,
  "metadata": {
    "colab": {
      "provenance": [],
      "authorship_tag": "ABX9TyMKfgpahpDUCBkfJ9oG01vs",
      "include_colab_link": true
    },
    "kernelspec": {
      "name": "python3",
      "display_name": "Python 3"
    },
    "language_info": {
      "name": "python"
    }
  },
  "cells": [
    {
      "cell_type": "markdown",
      "metadata": {
        "id": "view-in-github",
        "colab_type": "text"
      },
      "source": [
        "<a href=\"https://colab.research.google.com/github/ananya-dev147/My_Internship_Project/blob/main/Bank_Customer_Churn_Model.ipynb\" target=\"_parent\"><img src=\"https://colab.research.google.com/assets/colab-badge.svg\" alt=\"Open In Colab\"/></a>"
      ]
    },
    {
      "cell_type": "markdown",
      "source": [
        "# **Bank Customer Churn Model**"
      ],
      "metadata": {
        "id": "nWrUVd1XSGFl"
      }
    },
    {
      "cell_type": "markdown",
      "source": [
        "# **Machine learning with Python help in organize data, in machines and can also be taught to analyze and learn from disparate data sets - forming hypotheses, creating predictions, and improving decisions.**"
      ],
      "metadata": {
        "id": "7wxrCoAyTddY"
      }
    },
    {
      "cell_type": "code",
      "source": [
        "import pandas as pd"
      ],
      "metadata": {
        "id": "_Ba-AKeIT4LV"
      },
      "execution_count": null,
      "outputs": []
    },
    {
      "cell_type": "code",
      "source": [
        "import numpy as np"
      ],
      "metadata": {
        "id": "WAPMttEWUM2O"
      },
      "execution_count": null,
      "outputs": []
    },
    {
      "cell_type": "code",
      "source": [
        "import matplotlib.pyplot as plt"
      ],
      "metadata": {
        "id": "kkzoGm-TUVYP"
      },
      "execution_count": null,
      "outputs": []
    },
    {
      "cell_type": "code",
      "source": [
        "import seaborn as sns"
      ],
      "metadata": {
        "id": "QTNs1c_rUaWf"
      },
      "execution_count": null,
      "outputs": []
    },
    {
      "cell_type": "markdown",
      "source": [
        "# **Import Data**"
      ],
      "metadata": {
        "id": "91ePxA27UvVk"
      }
    },
    {
      "cell_type": "code",
      "source": [
        "df = pd.read_csv('https://github.com/YBI-Foundation/Dataset/raw/main/Bank%20Churn%20Modelling.csv')"
      ],
      "metadata": {
        "id": "JhEVNTSIXHzw"
      },
      "execution_count": null,
      "outputs": []
    },
    {
      "cell_type": "markdown",
      "source": [
        "# **Describe Data**"
      ],
      "metadata": {
        "id": "XzuijtNudIf9"
      }
    },
    {
      "cell_type": "code",
      "source": [
        "df.head()"
      ],
      "metadata": {
        "colab": {
          "base_uri": "https://localhost:8080/",
          "height": 261
        },
        "id": "Ne68sjk5dNPF",
        "outputId": "36528f30-8cbd-4e88-a7e8-e1f8fe21a577"
      },
      "execution_count": null,
      "outputs": [
        {
          "output_type": "execute_result",
          "data": {
            "text/plain": [
              "   CustomerId   Surname  CreditScore Geography  Gender  Age  Tenure  \\\n",
              "0    15634602  Hargrave          619    France  Female   42       2   \n",
              "1    15647311      Hill          608     Spain  Female   41       1   \n",
              "2    15619304      Onio          502    France  Female   42       8   \n",
              "3    15701354      Boni          699    France  Female   39       1   \n",
              "4    15737888  Mitchell          850     Spain  Female   43       2   \n",
              "\n",
              "     Balance  Num Of Products  Has Credit Card  Is Active Member  \\\n",
              "0       0.00                1                1                 1   \n",
              "1   83807.86                1                0                 1   \n",
              "2  159660.80                3                1                 0   \n",
              "3       0.00                2                0                 0   \n",
              "4  125510.82                1                1                 1   \n",
              "\n",
              "   Estimated Salary  Churn  \n",
              "0         101348.88      1  \n",
              "1         112542.58      0  \n",
              "2         113931.57      1  \n",
              "3          93826.63      0  \n",
              "4          79084.10      0  "
            ],
            "text/html": [
              "\n",
              "  <div id=\"df-a390cc68-5f49-405d-a1e0-475f1a35ab9e\" class=\"colab-df-container\">\n",
              "    <div>\n",
              "<style scoped>\n",
              "    .dataframe tbody tr th:only-of-type {\n",
              "        vertical-align: middle;\n",
              "    }\n",
              "\n",
              "    .dataframe tbody tr th {\n",
              "        vertical-align: top;\n",
              "    }\n",
              "\n",
              "    .dataframe thead th {\n",
              "        text-align: right;\n",
              "    }\n",
              "</style>\n",
              "<table border=\"1\" class=\"dataframe\">\n",
              "  <thead>\n",
              "    <tr style=\"text-align: right;\">\n",
              "      <th></th>\n",
              "      <th>CustomerId</th>\n",
              "      <th>Surname</th>\n",
              "      <th>CreditScore</th>\n",
              "      <th>Geography</th>\n",
              "      <th>Gender</th>\n",
              "      <th>Age</th>\n",
              "      <th>Tenure</th>\n",
              "      <th>Balance</th>\n",
              "      <th>Num Of Products</th>\n",
              "      <th>Has Credit Card</th>\n",
              "      <th>Is Active Member</th>\n",
              "      <th>Estimated Salary</th>\n",
              "      <th>Churn</th>\n",
              "    </tr>\n",
              "  </thead>\n",
              "  <tbody>\n",
              "    <tr>\n",
              "      <th>0</th>\n",
              "      <td>15634602</td>\n",
              "      <td>Hargrave</td>\n",
              "      <td>619</td>\n",
              "      <td>France</td>\n",
              "      <td>Female</td>\n",
              "      <td>42</td>\n",
              "      <td>2</td>\n",
              "      <td>0.00</td>\n",
              "      <td>1</td>\n",
              "      <td>1</td>\n",
              "      <td>1</td>\n",
              "      <td>101348.88</td>\n",
              "      <td>1</td>\n",
              "    </tr>\n",
              "    <tr>\n",
              "      <th>1</th>\n",
              "      <td>15647311</td>\n",
              "      <td>Hill</td>\n",
              "      <td>608</td>\n",
              "      <td>Spain</td>\n",
              "      <td>Female</td>\n",
              "      <td>41</td>\n",
              "      <td>1</td>\n",
              "      <td>83807.86</td>\n",
              "      <td>1</td>\n",
              "      <td>0</td>\n",
              "      <td>1</td>\n",
              "      <td>112542.58</td>\n",
              "      <td>0</td>\n",
              "    </tr>\n",
              "    <tr>\n",
              "      <th>2</th>\n",
              "      <td>15619304</td>\n",
              "      <td>Onio</td>\n",
              "      <td>502</td>\n",
              "      <td>France</td>\n",
              "      <td>Female</td>\n",
              "      <td>42</td>\n",
              "      <td>8</td>\n",
              "      <td>159660.80</td>\n",
              "      <td>3</td>\n",
              "      <td>1</td>\n",
              "      <td>0</td>\n",
              "      <td>113931.57</td>\n",
              "      <td>1</td>\n",
              "    </tr>\n",
              "    <tr>\n",
              "      <th>3</th>\n",
              "      <td>15701354</td>\n",
              "      <td>Boni</td>\n",
              "      <td>699</td>\n",
              "      <td>France</td>\n",
              "      <td>Female</td>\n",
              "      <td>39</td>\n",
              "      <td>1</td>\n",
              "      <td>0.00</td>\n",
              "      <td>2</td>\n",
              "      <td>0</td>\n",
              "      <td>0</td>\n",
              "      <td>93826.63</td>\n",
              "      <td>0</td>\n",
              "    </tr>\n",
              "    <tr>\n",
              "      <th>4</th>\n",
              "      <td>15737888</td>\n",
              "      <td>Mitchell</td>\n",
              "      <td>850</td>\n",
              "      <td>Spain</td>\n",
              "      <td>Female</td>\n",
              "      <td>43</td>\n",
              "      <td>2</td>\n",
              "      <td>125510.82</td>\n",
              "      <td>1</td>\n",
              "      <td>1</td>\n",
              "      <td>1</td>\n",
              "      <td>79084.10</td>\n",
              "      <td>0</td>\n",
              "    </tr>\n",
              "  </tbody>\n",
              "</table>\n",
              "</div>\n",
              "    <div class=\"colab-df-buttons\">\n",
              "\n",
              "  <div class=\"colab-df-container\">\n",
              "    <button class=\"colab-df-convert\" onclick=\"convertToInteractive('df-a390cc68-5f49-405d-a1e0-475f1a35ab9e')\"\n",
              "            title=\"Convert this dataframe to an interactive table.\"\n",
              "            style=\"display:none;\">\n",
              "\n",
              "  <svg xmlns=\"http://www.w3.org/2000/svg\" height=\"24px\" viewBox=\"0 -960 960 960\">\n",
              "    <path d=\"M120-120v-720h720v720H120Zm60-500h600v-160H180v160Zm220 220h160v-160H400v160Zm0 220h160v-160H400v160ZM180-400h160v-160H180v160Zm440 0h160v-160H620v160ZM180-180h160v-160H180v160Zm440 0h160v-160H620v160Z\"/>\n",
              "  </svg>\n",
              "    </button>\n",
              "\n",
              "  <style>\n",
              "    .colab-df-container {\n",
              "      display:flex;\n",
              "      gap: 12px;\n",
              "    }\n",
              "\n",
              "    .colab-df-convert {\n",
              "      background-color: #E8F0FE;\n",
              "      border: none;\n",
              "      border-radius: 50%;\n",
              "      cursor: pointer;\n",
              "      display: none;\n",
              "      fill: #1967D2;\n",
              "      height: 32px;\n",
              "      padding: 0 0 0 0;\n",
              "      width: 32px;\n",
              "    }\n",
              "\n",
              "    .colab-df-convert:hover {\n",
              "      background-color: #E2EBFA;\n",
              "      box-shadow: 0px 1px 2px rgba(60, 64, 67, 0.3), 0px 1px 3px 1px rgba(60, 64, 67, 0.15);\n",
              "      fill: #174EA6;\n",
              "    }\n",
              "\n",
              "    .colab-df-buttons div {\n",
              "      margin-bottom: 4px;\n",
              "    }\n",
              "\n",
              "    [theme=dark] .colab-df-convert {\n",
              "      background-color: #3B4455;\n",
              "      fill: #D2E3FC;\n",
              "    }\n",
              "\n",
              "    [theme=dark] .colab-df-convert:hover {\n",
              "      background-color: #434B5C;\n",
              "      box-shadow: 0px 1px 3px 1px rgba(0, 0, 0, 0.15);\n",
              "      filter: drop-shadow(0px 1px 2px rgba(0, 0, 0, 0.3));\n",
              "      fill: #FFFFFF;\n",
              "    }\n",
              "  </style>\n",
              "\n",
              "    <script>\n",
              "      const buttonEl =\n",
              "        document.querySelector('#df-a390cc68-5f49-405d-a1e0-475f1a35ab9e button.colab-df-convert');\n",
              "      buttonEl.style.display =\n",
              "        google.colab.kernel.accessAllowed ? 'block' : 'none';\n",
              "\n",
              "      async function convertToInteractive(key) {\n",
              "        const element = document.querySelector('#df-a390cc68-5f49-405d-a1e0-475f1a35ab9e');\n",
              "        const dataTable =\n",
              "          await google.colab.kernel.invokeFunction('convertToInteractive',\n",
              "                                                    [key], {});\n",
              "        if (!dataTable) return;\n",
              "\n",
              "        const docLinkHtml = 'Like what you see? Visit the ' +\n",
              "          '<a target=\"_blank\" href=https://colab.research.google.com/notebooks/data_table.ipynb>data table notebook</a>'\n",
              "          + ' to learn more about interactive tables.';\n",
              "        element.innerHTML = '';\n",
              "        dataTable['output_type'] = 'display_data';\n",
              "        await google.colab.output.renderOutput(dataTable, element);\n",
              "        const docLink = document.createElement('div');\n",
              "        docLink.innerHTML = docLinkHtml;\n",
              "        element.appendChild(docLink);\n",
              "      }\n",
              "    </script>\n",
              "  </div>\n",
              "\n",
              "\n",
              "<div id=\"df-2dbd3867-5985-43ac-89e4-4d36f7079e46\">\n",
              "  <button class=\"colab-df-quickchart\" onclick=\"quickchart('df-2dbd3867-5985-43ac-89e4-4d36f7079e46')\"\n",
              "            title=\"Suggest charts\"\n",
              "            style=\"display:none;\">\n",
              "\n",
              "<svg xmlns=\"http://www.w3.org/2000/svg\" height=\"24px\"viewBox=\"0 0 24 24\"\n",
              "     width=\"24px\">\n",
              "    <g>\n",
              "        <path d=\"M19 3H5c-1.1 0-2 .9-2 2v14c0 1.1.9 2 2 2h14c1.1 0 2-.9 2-2V5c0-1.1-.9-2-2-2zM9 17H7v-7h2v7zm4 0h-2V7h2v10zm4 0h-2v-4h2v4z\"/>\n",
              "    </g>\n",
              "</svg>\n",
              "  </button>\n",
              "\n",
              "<style>\n",
              "  .colab-df-quickchart {\n",
              "      --bg-color: #E8F0FE;\n",
              "      --fill-color: #1967D2;\n",
              "      --hover-bg-color: #E2EBFA;\n",
              "      --hover-fill-color: #174EA6;\n",
              "      --disabled-fill-color: #AAA;\n",
              "      --disabled-bg-color: #DDD;\n",
              "  }\n",
              "\n",
              "  [theme=dark] .colab-df-quickchart {\n",
              "      --bg-color: #3B4455;\n",
              "      --fill-color: #D2E3FC;\n",
              "      --hover-bg-color: #434B5C;\n",
              "      --hover-fill-color: #FFFFFF;\n",
              "      --disabled-bg-color: #3B4455;\n",
              "      --disabled-fill-color: #666;\n",
              "  }\n",
              "\n",
              "  .colab-df-quickchart {\n",
              "    background-color: var(--bg-color);\n",
              "    border: none;\n",
              "    border-radius: 50%;\n",
              "    cursor: pointer;\n",
              "    display: none;\n",
              "    fill: var(--fill-color);\n",
              "    height: 32px;\n",
              "    padding: 0;\n",
              "    width: 32px;\n",
              "  }\n",
              "\n",
              "  .colab-df-quickchart:hover {\n",
              "    background-color: var(--hover-bg-color);\n",
              "    box-shadow: 0 1px 2px rgba(60, 64, 67, 0.3), 0 1px 3px 1px rgba(60, 64, 67, 0.15);\n",
              "    fill: var(--button-hover-fill-color);\n",
              "  }\n",
              "\n",
              "  .colab-df-quickchart-complete:disabled,\n",
              "  .colab-df-quickchart-complete:disabled:hover {\n",
              "    background-color: var(--disabled-bg-color);\n",
              "    fill: var(--disabled-fill-color);\n",
              "    box-shadow: none;\n",
              "  }\n",
              "\n",
              "  .colab-df-spinner {\n",
              "    border: 2px solid var(--fill-color);\n",
              "    border-color: transparent;\n",
              "    border-bottom-color: var(--fill-color);\n",
              "    animation:\n",
              "      spin 1s steps(1) infinite;\n",
              "  }\n",
              "\n",
              "  @keyframes spin {\n",
              "    0% {\n",
              "      border-color: transparent;\n",
              "      border-bottom-color: var(--fill-color);\n",
              "      border-left-color: var(--fill-color);\n",
              "    }\n",
              "    20% {\n",
              "      border-color: transparent;\n",
              "      border-left-color: var(--fill-color);\n",
              "      border-top-color: var(--fill-color);\n",
              "    }\n",
              "    30% {\n",
              "      border-color: transparent;\n",
              "      border-left-color: var(--fill-color);\n",
              "      border-top-color: var(--fill-color);\n",
              "      border-right-color: var(--fill-color);\n",
              "    }\n",
              "    40% {\n",
              "      border-color: transparent;\n",
              "      border-right-color: var(--fill-color);\n",
              "      border-top-color: var(--fill-color);\n",
              "    }\n",
              "    60% {\n",
              "      border-color: transparent;\n",
              "      border-right-color: var(--fill-color);\n",
              "    }\n",
              "    80% {\n",
              "      border-color: transparent;\n",
              "      border-right-color: var(--fill-color);\n",
              "      border-bottom-color: var(--fill-color);\n",
              "    }\n",
              "    90% {\n",
              "      border-color: transparent;\n",
              "      border-bottom-color: var(--fill-color);\n",
              "    }\n",
              "  }\n",
              "</style>\n",
              "\n",
              "  <script>\n",
              "    async function quickchart(key) {\n",
              "      const quickchartButtonEl =\n",
              "        document.querySelector('#' + key + ' button');\n",
              "      quickchartButtonEl.disabled = true;  // To prevent multiple clicks.\n",
              "      quickchartButtonEl.classList.add('colab-df-spinner');\n",
              "      try {\n",
              "        const charts = await google.colab.kernel.invokeFunction(\n",
              "            'suggestCharts', [key], {});\n",
              "      } catch (error) {\n",
              "        console.error('Error during call to suggestCharts:', error);\n",
              "      }\n",
              "      quickchartButtonEl.classList.remove('colab-df-spinner');\n",
              "      quickchartButtonEl.classList.add('colab-df-quickchart-complete');\n",
              "    }\n",
              "    (() => {\n",
              "      let quickchartButtonEl =\n",
              "        document.querySelector('#df-2dbd3867-5985-43ac-89e4-4d36f7079e46 button');\n",
              "      quickchartButtonEl.style.display =\n",
              "        google.colab.kernel.accessAllowed ? 'block' : 'none';\n",
              "    })();\n",
              "  </script>\n",
              "</div>\n",
              "\n",
              "    </div>\n",
              "  </div>\n"
            ],
            "application/vnd.google.colaboratory.intrinsic+json": {
              "type": "dataframe",
              "variable_name": "df",
              "summary": "{\n  \"name\": \"df\",\n  \"rows\": 10000,\n  \"fields\": [\n    {\n      \"column\": \"CustomerId\",\n      \"properties\": {\n        \"dtype\": \"number\",\n        \"std\": 71936,\n        \"min\": 15565701,\n        \"max\": 15815690,\n        \"num_unique_values\": 10000,\n        \"samples\": [\n          15687492,\n          15736963,\n          15721730\n        ],\n        \"semantic_type\": \"\",\n        \"description\": \"\"\n      }\n    },\n    {\n      \"column\": \"Surname\",\n      \"properties\": {\n        \"dtype\": \"category\",\n        \"num_unique_values\": 2932,\n        \"samples\": [\n          \"McGuirk\",\n          \"Torkelson\",\n          \"Rapuluchukwu\"\n        ],\n        \"semantic_type\": \"\",\n        \"description\": \"\"\n      }\n    },\n    {\n      \"column\": \"CreditScore\",\n      \"properties\": {\n        \"dtype\": \"number\",\n        \"std\": 96,\n        \"min\": 350,\n        \"max\": 850,\n        \"num_unique_values\": 460,\n        \"samples\": [\n          754,\n          533,\n          744\n        ],\n        \"semantic_type\": \"\",\n        \"description\": \"\"\n      }\n    },\n    {\n      \"column\": \"Geography\",\n      \"properties\": {\n        \"dtype\": \"category\",\n        \"num_unique_values\": 3,\n        \"samples\": [\n          \"France\",\n          \"Spain\",\n          \"Germany\"\n        ],\n        \"semantic_type\": \"\",\n        \"description\": \"\"\n      }\n    },\n    {\n      \"column\": \"Gender\",\n      \"properties\": {\n        \"dtype\": \"category\",\n        \"num_unique_values\": 2,\n        \"samples\": [\n          \"Male\",\n          \"Female\"\n        ],\n        \"semantic_type\": \"\",\n        \"description\": \"\"\n      }\n    },\n    {\n      \"column\": \"Age\",\n      \"properties\": {\n        \"dtype\": \"number\",\n        \"std\": 10,\n        \"min\": 18,\n        \"max\": 92,\n        \"num_unique_values\": 70,\n        \"samples\": [\n          61,\n          42\n        ],\n        \"semantic_type\": \"\",\n        \"description\": \"\"\n      }\n    },\n    {\n      \"column\": \"Tenure\",\n      \"properties\": {\n        \"dtype\": \"number\",\n        \"std\": 2,\n        \"min\": 0,\n        \"max\": 10,\n        \"num_unique_values\": 11,\n        \"samples\": [\n          6,\n          2\n        ],\n        \"semantic_type\": \"\",\n        \"description\": \"\"\n      }\n    },\n    {\n      \"column\": \"Balance\",\n      \"properties\": {\n        \"dtype\": \"number\",\n        \"std\": 62397.405202385955,\n        \"min\": 0.0,\n        \"max\": 250898.09,\n        \"num_unique_values\": 6382,\n        \"samples\": [\n          117707.18,\n          133050.97\n        ],\n        \"semantic_type\": \"\",\n        \"description\": \"\"\n      }\n    },\n    {\n      \"column\": \"Num Of Products\",\n      \"properties\": {\n        \"dtype\": \"number\",\n        \"std\": 0,\n        \"min\": 1,\n        \"max\": 4,\n        \"num_unique_values\": 4,\n        \"samples\": [\n          3,\n          4\n        ],\n        \"semantic_type\": \"\",\n        \"description\": \"\"\n      }\n    },\n    {\n      \"column\": \"Has Credit Card\",\n      \"properties\": {\n        \"dtype\": \"number\",\n        \"std\": 0,\n        \"min\": 0,\n        \"max\": 1,\n        \"num_unique_values\": 2,\n        \"samples\": [\n          0,\n          1\n        ],\n        \"semantic_type\": \"\",\n        \"description\": \"\"\n      }\n    },\n    {\n      \"column\": \"Is Active Member\",\n      \"properties\": {\n        \"dtype\": \"number\",\n        \"std\": 0,\n        \"min\": 0,\n        \"max\": 1,\n        \"num_unique_values\": 2,\n        \"samples\": [\n          0,\n          1\n        ],\n        \"semantic_type\": \"\",\n        \"description\": \"\"\n      }\n    },\n    {\n      \"column\": \"Estimated Salary\",\n      \"properties\": {\n        \"dtype\": \"number\",\n        \"std\": 57510.49281769816,\n        \"min\": 11.58,\n        \"max\": 199992.48,\n        \"num_unique_values\": 9999,\n        \"samples\": [\n          100809.99,\n          95273.73\n        ],\n        \"semantic_type\": \"\",\n        \"description\": \"\"\n      }\n    },\n    {\n      \"column\": \"Churn\",\n      \"properties\": {\n        \"dtype\": \"number\",\n        \"std\": 0,\n        \"min\": 0,\n        \"max\": 1,\n        \"num_unique_values\": 2,\n        \"samples\": [\n          0,\n          1\n        ],\n        \"semantic_type\": \"\",\n        \"description\": \"\"\n      }\n    }\n  ]\n}"
            }
          },
          "metadata": {},
          "execution_count": 273
        }
      ]
    },
    {
      "cell_type": "code",
      "source": [
        "df.info()"
      ],
      "metadata": {
        "colab": {
          "base_uri": "https://localhost:8080/"
        },
        "id": "3Ij8emI1dWcC",
        "outputId": "094aab67-ecb4-49d1-d301-d567499d7ee3"
      },
      "execution_count": null,
      "outputs": [
        {
          "output_type": "stream",
          "name": "stdout",
          "text": [
            "<class 'pandas.core.frame.DataFrame'>\n",
            "RangeIndex: 10000 entries, 0 to 9999\n",
            "Data columns (total 13 columns):\n",
            " #   Column            Non-Null Count  Dtype  \n",
            "---  ------            --------------  -----  \n",
            " 0   CustomerId        10000 non-null  int64  \n",
            " 1   Surname           10000 non-null  object \n",
            " 2   CreditScore       10000 non-null  int64  \n",
            " 3   Geography         10000 non-null  object \n",
            " 4   Gender            10000 non-null  object \n",
            " 5   Age               10000 non-null  int64  \n",
            " 6   Tenure            10000 non-null  int64  \n",
            " 7   Balance           10000 non-null  float64\n",
            " 8   Num Of Products   10000 non-null  int64  \n",
            " 9   Has Credit Card   10000 non-null  int64  \n",
            " 10  Is Active Member  10000 non-null  int64  \n",
            " 11  Estimated Salary  10000 non-null  float64\n",
            " 12  Churn             10000 non-null  int64  \n",
            "dtypes: float64(2), int64(8), object(3)\n",
            "memory usage: 1015.8+ KB\n"
          ]
        }
      ]
    },
    {
      "cell_type": "code",
      "source": [
        "df.duplicated('CustomerId').sum()"
      ],
      "metadata": {
        "colab": {
          "base_uri": "https://localhost:8080/"
        },
        "id": "9aTUz3jkdbDK",
        "outputId": "82225a99-7de3-4823-d763-7a739fa2e7bb"
      },
      "execution_count": null,
      "outputs": [
        {
          "output_type": "execute_result",
          "data": {
            "text/plain": [
              "0"
            ]
          },
          "metadata": {},
          "execution_count": 275
        }
      ]
    },
    {
      "cell_type": "code",
      "source": [
        "df = df.set_index('CustomerId')"
      ],
      "metadata": {
        "id": "QqhxZHZjeAjx"
      },
      "execution_count": null,
      "outputs": []
    },
    {
      "cell_type": "code",
      "source": [
        "df.info()"
      ],
      "metadata": {
        "colab": {
          "base_uri": "https://localhost:8080/"
        },
        "id": "WYrsxet1ePp4",
        "outputId": "e3ebbf56-450e-40a9-f84a-5c7d4b504e9a"
      },
      "execution_count": null,
      "outputs": [
        {
          "output_type": "stream",
          "name": "stdout",
          "text": [
            "<class 'pandas.core.frame.DataFrame'>\n",
            "Index: 10000 entries, 15634602 to 15628319\n",
            "Data columns (total 12 columns):\n",
            " #   Column            Non-Null Count  Dtype  \n",
            "---  ------            --------------  -----  \n",
            " 0   Surname           10000 non-null  object \n",
            " 1   CreditScore       10000 non-null  int64  \n",
            " 2   Geography         10000 non-null  object \n",
            " 3   Gender            10000 non-null  object \n",
            " 4   Age               10000 non-null  int64  \n",
            " 5   Tenure            10000 non-null  int64  \n",
            " 6   Balance           10000 non-null  float64\n",
            " 7   Num Of Products   10000 non-null  int64  \n",
            " 8   Has Credit Card   10000 non-null  int64  \n",
            " 9   Is Active Member  10000 non-null  int64  \n",
            " 10  Estimated Salary  10000 non-null  float64\n",
            " 11  Churn             10000 non-null  int64  \n",
            "dtypes: float64(2), int64(7), object(3)\n",
            "memory usage: 1015.6+ KB\n"
          ]
        }
      ]
    },
    {
      "cell_type": "markdown",
      "source": [
        "# **Data Visualization**"
      ],
      "metadata": {
        "id": "Iqfrnp6TegSD"
      }
    },
    {
      "cell_type": "code",
      "source": [
        "df['Geography'].value_counts()"
      ],
      "metadata": {
        "colab": {
          "base_uri": "https://localhost:8080/",
          "height": 209
        },
        "id": "WCqNMBlWemWk",
        "outputId": "9e8a1248-6642-44ad-a944-f9dafc2d999c"
      },
      "execution_count": null,
      "outputs": [
        {
          "output_type": "execute_result",
          "data": {
            "text/plain": [
              "Geography\n",
              "France     5014\n",
              "Germany    2509\n",
              "Spain      2477\n",
              "Name: count, dtype: int64"
            ],
            "text/html": [
              "<div>\n",
              "<style scoped>\n",
              "    .dataframe tbody tr th:only-of-type {\n",
              "        vertical-align: middle;\n",
              "    }\n",
              "\n",
              "    .dataframe tbody tr th {\n",
              "        vertical-align: top;\n",
              "    }\n",
              "\n",
              "    .dataframe thead th {\n",
              "        text-align: right;\n",
              "    }\n",
              "</style>\n",
              "<table border=\"1\" class=\"dataframe\">\n",
              "  <thead>\n",
              "    <tr style=\"text-align: right;\">\n",
              "      <th></th>\n",
              "      <th>count</th>\n",
              "    </tr>\n",
              "    <tr>\n",
              "      <th>Geography</th>\n",
              "      <th></th>\n",
              "    </tr>\n",
              "  </thead>\n",
              "  <tbody>\n",
              "    <tr>\n",
              "      <th>France</th>\n",
              "      <td>5014</td>\n",
              "    </tr>\n",
              "    <tr>\n",
              "      <th>Germany</th>\n",
              "      <td>2509</td>\n",
              "    </tr>\n",
              "    <tr>\n",
              "      <th>Spain</th>\n",
              "      <td>2477</td>\n",
              "    </tr>\n",
              "  </tbody>\n",
              "</table>\n",
              "</div><br><label><b>dtype:</b> int64</label>"
            ]
          },
          "metadata": {},
          "execution_count": 278
        }
      ]
    },
    {
      "cell_type": "code",
      "source": [
        "df.replace({'Geography': {'France': 2, 'Germany':1, 'Spain' : 0}}, inplace=True)"
      ],
      "metadata": {
        "id": "DqgIinW3fDB4"
      },
      "execution_count": null,
      "outputs": []
    },
    {
      "cell_type": "code",
      "source": [
        "df['Gender'].value_counts()"
      ],
      "metadata": {
        "colab": {
          "base_uri": "https://localhost:8080/",
          "height": 178
        },
        "id": "d6ylshIXfICi",
        "outputId": "0f43a4b0-0a5f-4097-b501-7fe568654ed8"
      },
      "execution_count": null,
      "outputs": [
        {
          "output_type": "execute_result",
          "data": {
            "text/plain": [
              "Gender\n",
              "Male      5457\n",
              "Female    4543\n",
              "Name: count, dtype: int64"
            ],
            "text/html": [
              "<div>\n",
              "<style scoped>\n",
              "    .dataframe tbody tr th:only-of-type {\n",
              "        vertical-align: middle;\n",
              "    }\n",
              "\n",
              "    .dataframe tbody tr th {\n",
              "        vertical-align: top;\n",
              "    }\n",
              "\n",
              "    .dataframe thead th {\n",
              "        text-align: right;\n",
              "    }\n",
              "</style>\n",
              "<table border=\"1\" class=\"dataframe\">\n",
              "  <thead>\n",
              "    <tr style=\"text-align: right;\">\n",
              "      <th></th>\n",
              "      <th>count</th>\n",
              "    </tr>\n",
              "    <tr>\n",
              "      <th>Gender</th>\n",
              "      <th></th>\n",
              "    </tr>\n",
              "  </thead>\n",
              "  <tbody>\n",
              "    <tr>\n",
              "      <th>Male</th>\n",
              "      <td>5457</td>\n",
              "    </tr>\n",
              "    <tr>\n",
              "      <th>Female</th>\n",
              "      <td>4543</td>\n",
              "    </tr>\n",
              "  </tbody>\n",
              "</table>\n",
              "</div><br><label><b>dtype:</b> int64</label>"
            ]
          },
          "metadata": {},
          "execution_count": 280
        }
      ]
    },
    {
      "cell_type": "code",
      "source": [
        "df.replace({'Gender': {'Male': 0, 'Female': 1}}, inplace=True)"
      ],
      "metadata": {
        "id": "UEcDcxEhfR3K"
      },
      "execution_count": null,
      "outputs": []
    },
    {
      "cell_type": "code",
      "source": [
        "df['Num Of Products'].value_counts()"
      ],
      "metadata": {
        "colab": {
          "base_uri": "https://localhost:8080/",
          "height": 241
        },
        "id": "owXFWeqZfX1-",
        "outputId": "0b6c9d86-5b1a-4501-e8ab-c3e40147fdd3"
      },
      "execution_count": null,
      "outputs": [
        {
          "output_type": "execute_result",
          "data": {
            "text/plain": [
              "Num Of Products\n",
              "1    5084\n",
              "2    4590\n",
              "3     266\n",
              "4      60\n",
              "Name: count, dtype: int64"
            ],
            "text/html": [
              "<div>\n",
              "<style scoped>\n",
              "    .dataframe tbody tr th:only-of-type {\n",
              "        vertical-align: middle;\n",
              "    }\n",
              "\n",
              "    .dataframe tbody tr th {\n",
              "        vertical-align: top;\n",
              "    }\n",
              "\n",
              "    .dataframe thead th {\n",
              "        text-align: right;\n",
              "    }\n",
              "</style>\n",
              "<table border=\"1\" class=\"dataframe\">\n",
              "  <thead>\n",
              "    <tr style=\"text-align: right;\">\n",
              "      <th></th>\n",
              "      <th>count</th>\n",
              "    </tr>\n",
              "    <tr>\n",
              "      <th>Num Of Products</th>\n",
              "      <th></th>\n",
              "    </tr>\n",
              "  </thead>\n",
              "  <tbody>\n",
              "    <tr>\n",
              "      <th>1</th>\n",
              "      <td>5084</td>\n",
              "    </tr>\n",
              "    <tr>\n",
              "      <th>2</th>\n",
              "      <td>4590</td>\n",
              "    </tr>\n",
              "    <tr>\n",
              "      <th>3</th>\n",
              "      <td>266</td>\n",
              "    </tr>\n",
              "    <tr>\n",
              "      <th>4</th>\n",
              "      <td>60</td>\n",
              "    </tr>\n",
              "  </tbody>\n",
              "</table>\n",
              "</div><br><label><b>dtype:</b> int64</label>"
            ]
          },
          "metadata": {},
          "execution_count": 282
        }
      ]
    },
    {
      "cell_type": "code",
      "source": [
        "df.replace({'Num Of Products': {1:0, 2:1, 3:1, 4:1}}, inplace=True)"
      ],
      "metadata": {
        "id": "YVahNrlUgEZc"
      },
      "execution_count": null,
      "outputs": []
    },
    {
      "cell_type": "code",
      "source": [
        "df['Has Credit Card'].value_counts()"
      ],
      "metadata": {
        "colab": {
          "base_uri": "https://localhost:8080/",
          "height": 178
        },
        "id": "Kt21v6hvgHd9",
        "outputId": "91a02820-1802-4c27-ed21-1d07570782a2"
      },
      "execution_count": null,
      "outputs": [
        {
          "output_type": "execute_result",
          "data": {
            "text/plain": [
              "Has Credit Card\n",
              "1    7055\n",
              "0    2945\n",
              "Name: count, dtype: int64"
            ],
            "text/html": [
              "<div>\n",
              "<style scoped>\n",
              "    .dataframe tbody tr th:only-of-type {\n",
              "        vertical-align: middle;\n",
              "    }\n",
              "\n",
              "    .dataframe tbody tr th {\n",
              "        vertical-align: top;\n",
              "    }\n",
              "\n",
              "    .dataframe thead th {\n",
              "        text-align: right;\n",
              "    }\n",
              "</style>\n",
              "<table border=\"1\" class=\"dataframe\">\n",
              "  <thead>\n",
              "    <tr style=\"text-align: right;\">\n",
              "      <th></th>\n",
              "      <th>count</th>\n",
              "    </tr>\n",
              "    <tr>\n",
              "      <th>Has Credit Card</th>\n",
              "      <th></th>\n",
              "    </tr>\n",
              "  </thead>\n",
              "  <tbody>\n",
              "    <tr>\n",
              "      <th>1</th>\n",
              "      <td>7055</td>\n",
              "    </tr>\n",
              "    <tr>\n",
              "      <th>0</th>\n",
              "      <td>2945</td>\n",
              "    </tr>\n",
              "  </tbody>\n",
              "</table>\n",
              "</div><br><label><b>dtype:</b> int64</label>"
            ]
          },
          "metadata": {},
          "execution_count": 284
        }
      ]
    },
    {
      "cell_type": "code",
      "source": [
        "df['Is Active Member'].value_counts()"
      ],
      "metadata": {
        "colab": {
          "base_uri": "https://localhost:8080/",
          "height": 178
        },
        "id": "Omt09IRSgS_6",
        "outputId": "b7ad050a-4ca7-491c-f2fd-733bbfbfe851"
      },
      "execution_count": null,
      "outputs": [
        {
          "output_type": "execute_result",
          "data": {
            "text/plain": [
              "Is Active Member\n",
              "1    5151\n",
              "0    4849\n",
              "Name: count, dtype: int64"
            ],
            "text/html": [
              "<div>\n",
              "<style scoped>\n",
              "    .dataframe tbody tr th:only-of-type {\n",
              "        vertical-align: middle;\n",
              "    }\n",
              "\n",
              "    .dataframe tbody tr th {\n",
              "        vertical-align: top;\n",
              "    }\n",
              "\n",
              "    .dataframe thead th {\n",
              "        text-align: right;\n",
              "    }\n",
              "</style>\n",
              "<table border=\"1\" class=\"dataframe\">\n",
              "  <thead>\n",
              "    <tr style=\"text-align: right;\">\n",
              "      <th></th>\n",
              "      <th>count</th>\n",
              "    </tr>\n",
              "    <tr>\n",
              "      <th>Is Active Member</th>\n",
              "      <th></th>\n",
              "    </tr>\n",
              "  </thead>\n",
              "  <tbody>\n",
              "    <tr>\n",
              "      <th>1</th>\n",
              "      <td>5151</td>\n",
              "    </tr>\n",
              "    <tr>\n",
              "      <th>0</th>\n",
              "      <td>4849</td>\n",
              "    </tr>\n",
              "  </tbody>\n",
              "</table>\n",
              "</div><br><label><b>dtype:</b> int64</label>"
            ]
          },
          "metadata": {},
          "execution_count": 285
        }
      ]
    },
    {
      "cell_type": "code",
      "source": [
        "df.loc[(df['Balance']==0), 'Churn'].value_counts()"
      ],
      "metadata": {
        "colab": {
          "base_uri": "https://localhost:8080/",
          "height": 178
        },
        "id": "foD9EUjKgWhO",
        "outputId": "1d9713fc-1ee8-4a4e-976a-7e1d1806ff38"
      },
      "execution_count": null,
      "outputs": [
        {
          "output_type": "execute_result",
          "data": {
            "text/plain": [
              "Churn\n",
              "0    3117\n",
              "1     500\n",
              "Name: count, dtype: int64"
            ],
            "text/html": [
              "<div>\n",
              "<style scoped>\n",
              "    .dataframe tbody tr th:only-of-type {\n",
              "        vertical-align: middle;\n",
              "    }\n",
              "\n",
              "    .dataframe tbody tr th {\n",
              "        vertical-align: top;\n",
              "    }\n",
              "\n",
              "    .dataframe thead th {\n",
              "        text-align: right;\n",
              "    }\n",
              "</style>\n",
              "<table border=\"1\" class=\"dataframe\">\n",
              "  <thead>\n",
              "    <tr style=\"text-align: right;\">\n",
              "      <th></th>\n",
              "      <th>count</th>\n",
              "    </tr>\n",
              "    <tr>\n",
              "      <th>Churn</th>\n",
              "      <th></th>\n",
              "    </tr>\n",
              "  </thead>\n",
              "  <tbody>\n",
              "    <tr>\n",
              "      <th>0</th>\n",
              "      <td>3117</td>\n",
              "    </tr>\n",
              "    <tr>\n",
              "      <th>1</th>\n",
              "      <td>500</td>\n",
              "    </tr>\n",
              "  </tbody>\n",
              "</table>\n",
              "</div><br><label><b>dtype:</b> int64</label>"
            ]
          },
          "metadata": {},
          "execution_count": 286
        }
      ]
    },
    {
      "cell_type": "code",
      "source": [
        "df['Zero Balance'] = np. where (df['Balance']>0, 1, 0)"
      ],
      "metadata": {
        "id": "37JTtfU3ge_U"
      },
      "execution_count": null,
      "outputs": []
    },
    {
      "cell_type": "code",
      "source": [
        "df['Zero Balance'].hist()"
      ],
      "metadata": {
        "colab": {
          "base_uri": "https://localhost:8080/",
          "height": 447
        },
        "id": "wmL4Qjiyg52r",
        "outputId": "e689e9c1-8df5-4ae1-ad32-0d0726ba28cf"
      },
      "execution_count": null,
      "outputs": [
        {
          "output_type": "execute_result",
          "data": {
            "text/plain": [
              "<Axes: >"
            ]
          },
          "metadata": {},
          "execution_count": 288
        },
        {
          "output_type": "display_data",
          "data": {
            "text/plain": [
              "<Figure size 640x480 with 1 Axes>"
            ],
            "image/png": "[encoded data removed]"
          },
          "metadata": {}
        }
      ]
    },
    {
      "cell_type": "markdown",
      "source": [
        "# **Data Preprocessing**"
      ],
      "metadata": {
        "id": "ETxbkrkghXTC"
      }
    },
    {
      "cell_type": "code",
      "source": [
        "df.groupby (['Churn', 'Geography']).count()"
      ],
      "metadata": {
        "colab": {
          "base_uri": "https://localhost:8080/",
          "height": 323
        },
        "id": "Q70qaa_9hDyz",
        "outputId": "e9ef17d7-a319-4a7d-85d7-80eb7534e3c4"
      },
      "execution_count": null,
      "outputs": [
        {
          "output_type": "execute_result",
          "data": {
            "text/plain": [
              "                 CustomerId  Surname  CreditScore  Gender   Age  Tenure  \\\n",
              "Churn Geography                                                           \n",
              "0     France           4204     4204         4204    4204  4204    4204   \n",
              "      Germany          1695     1695         1695    1695  1695    1695   \n",
              "      Spain            2064     2064         2064    2064  2064    2064   \n",
              "1     France            810      810          810     810   810     810   \n",
              "      Germany           814      814          814     814   814     814   \n",
              "      Spain             413      413          413     413   413     413   \n",
              "\n",
              "                 Balance  Num Of Products  Has Credit Card  Is Active Member  \\\n",
              "Churn Geography                                                                \n",
              "0     France        4204             4204             4204              4204   \n",
              "      Germany       1695             1695             1695              1695   \n",
              "      Spain         2064             2064             2064              2064   \n",
              "1     France         810              810              810               810   \n",
              "      Germany        814              814              814               814   \n",
              "      Spain          413              413              413               413   \n",
              "\n",
              "                 Estimated Salary  \n",
              "Churn Geography                    \n",
              "0     France                 4204  \n",
              "      Germany                1695  \n",
              "      Spain                  2064  \n",
              "1     France                  810  \n",
              "      Germany                 814  \n",
              "      Spain                   413  "
            ],
            "text/html": [
              "\n",
              "  <div id=\"df-43e6a8bb-9e46-48e1-a241-83cb39d77a9a\" class=\"colab-df-container\">\n",
              "    <div>\n",
              "<style scoped>\n",
              "    .dataframe tbody tr th:only-of-type {\n",
              "        vertical-align: middle;\n",
              "    }\n",
              "\n",
              "    .dataframe tbody tr th {\n",
              "        vertical-align: top;\n",
              "    }\n",
              "\n",
              "    .dataframe thead th {\n",
              "        text-align: right;\n",
              "    }\n",
              "</style>\n",
              "<table border=\"1\" class=\"dataframe\">\n",
              "  <thead>\n",
              "    <tr style=\"text-align: right;\">\n",
              "      <th></th>\n",
              "      <th></th>\n",
              "      <th>CustomerId</th>\n",
              "      <th>Surname</th>\n",
              "      <th>CreditScore</th>\n",
              "      <th>Gender</th>\n",
              "      <th>Age</th>\n",
              "      <th>Tenure</th>\n",
              "      <th>Balance</th>\n",
              "      <th>Num Of Products</th>\n",
              "      <th>Has Credit Card</th>\n",
              "      <th>Is Active Member</th>\n",
              "      <th>Estimated Salary</th>\n",
              "    </tr>\n",
              "    <tr>\n",
              "      <th>Churn</th>\n",
              "      <th>Geography</th>\n",
              "      <th></th>\n",
              "      <th></th>\n",
              "      <th></th>\n",
              "      <th></th>\n",
              "      <th></th>\n",
              "      <th></th>\n",
              "      <th></th>\n",
              "      <th></th>\n",
              "      <th></th>\n",
              "      <th></th>\n",
              "      <th></th>\n",
              "    </tr>\n",
              "  </thead>\n",
              "  <tbody>\n",
              "    <tr>\n",
              "      <th rowspan=\"3\" valign=\"top\">0</th>\n",
              "      <th>France</th>\n",
              "      <td>4204</td>\n",
              "      <td>4204</td>\n",
              "      <td>4204</td>\n",
              "      <td>4204</td>\n",
              "      <td>4204</td>\n",
              "      <td>4204</td>\n",
              "      <td>4204</td>\n",
              "      <td>4204</td>\n",
              "      <td>4204</td>\n",
              "      <td>4204</td>\n",
              "      <td>4204</td>\n",
              "    </tr>\n",
              "    <tr>\n",
              "      <th>Germany</th>\n",
              "      <td>1695</td>\n",
              "      <td>1695</td>\n",
              "      <td>1695</td>\n",
              "      <td>1695</td>\n",
              "      <td>1695</td>\n",
              "      <td>1695</td>\n",
              "      <td>1695</td>\n",
              "      <td>1695</td>\n",
              "      <td>1695</td>\n",
              "      <td>1695</td>\n",
              "      <td>1695</td>\n",
              "    </tr>\n",
              "    <tr>\n",
              "      <th>Spain</th>\n",
              "      <td>2064</td>\n",
              "      <td>2064</td>\n",
              "      <td>2064</td>\n",
              "      <td>2064</td>\n",
              "      <td>2064</td>\n",
              "      <td>2064</td>\n",
              "      <td>2064</td>\n",
              "      <td>2064</td>\n",
              "      <td>2064</td>\n",
              "      <td>2064</td>\n",
              "      <td>2064</td>\n",
              "    </tr>\n",
              "    <tr>\n",
              "      <th rowspan=\"3\" valign=\"top\">1</th>\n",
              "      <th>France</th>\n",
              "      <td>810</td>\n",
              "      <td>810</td>\n",
              "      <td>810</td>\n",
              "      <td>810</td>\n",
              "      <td>810</td>\n",
              "      <td>810</td>\n",
              "      <td>810</td>\n",
              "      <td>810</td>\n",
              "      <td>810</td>\n",
              "      <td>810</td>\n",
              "      <td>810</td>\n",
              "    </tr>\n",
              "    <tr>\n",
              "      <th>Germany</th>\n",
              "      <td>814</td>\n",
              "      <td>814</td>\n",
              "      <td>814</td>\n",
              "      <td>814</td>\n",
              "      <td>814</td>\n",
              "      <td>814</td>\n",
              "      <td>814</td>\n",
              "      <td>814</td>\n",
              "      <td>814</td>\n",
              "      <td>814</td>\n",
              "      <td>814</td>\n",
              "    </tr>\n",
              "    <tr>\n",
              "      <th>Spain</th>\n",
              "      <td>413</td>\n",
              "      <td>413</td>\n",
              "      <td>413</td>\n",
              "      <td>413</td>\n",
              "      <td>413</td>\n",
              "      <td>413</td>\n",
              "      <td>413</td>\n",
              "      <td>413</td>\n",
              "      <td>413</td>\n",
              "      <td>413</td>\n",
              "      <td>413</td>\n",
              "    </tr>\n",
              "  </tbody>\n",
              "</table>\n",
              "</div>\n",
              "    <div class=\"colab-df-buttons\">\n",
              "\n",
              "  <div class=\"colab-df-container\">\n",
              "    <button class=\"colab-df-convert\" onclick=\"convertToInteractive('df-43e6a8bb-9e46-48e1-a241-83cb39d77a9a')\"\n",
              "            title=\"Convert this dataframe to an interactive table.\"\n",
              "            style=\"display:none;\">\n",
              "\n",
              "  <svg xmlns=\"http://www.w3.org/2000/svg\" height=\"24px\" viewBox=\"0 -960 960 960\">\n",
              "    <path d=\"M120-120v-720h720v720H120Zm60-500h600v-160H180v160Zm220 220h160v-160H400v160Zm0 220h160v-160H400v160ZM180-400h160v-160H180v160Zm440 0h160v-160H620v160ZM180-180h160v-160H180v160Zm440 0h160v-160H620v160Z\"/>\n",
              "  </svg>\n",
              "    </button>\n",
              "\n",
              "  <style>\n",
              "    .colab-df-container {\n",
              "      display:flex;\n",
              "      gap: 12px;\n",
              "    }\n",
              "\n",
              "    .colab-df-convert {\n",
              "      background-color: #E8F0FE;\n",
              "      border: none;\n",
              "      border-radius: 50%;\n",
              "      cursor: pointer;\n",
              "      display: none;\n",
              "      fill: #1967D2;\n",
              "      height: 32px;\n",
              "      padding: 0 0 0 0;\n",
              "      width: 32px;\n",
              "    }\n",
              "\n",
              "    .colab-df-convert:hover {\n",
              "      background-color: #E2EBFA;\n",
              "      box-shadow: 0px 1px 2px rgba(60, 64, 67, 0.3), 0px 1px 3px 1px rgba(60, 64, 67, 0.15);\n",
              "      fill: #174EA6;\n",
              "    }\n",
              "\n",
              "    .colab-df-buttons div {\n",
              "      margin-bottom: 4px;\n",
              "    }\n",
              "\n",
              "    [theme=dark] .colab-df-convert {\n",
              "      background-color: #3B4455;\n",
              "      fill: #D2E3FC;\n",
              "    }\n",
              "\n",
              "    [theme=dark] .colab-df-convert:hover {\n",
              "      background-color: #434B5C;\n",
              "      box-shadow: 0px 1px 3px 1px rgba(0, 0, 0, 0.15);\n",
              "      filter: drop-shadow(0px 1px 2px rgba(0, 0, 0, 0.3));\n",
              "      fill: #FFFFFF;\n",
              "    }\n",
              "  </style>\n",
              "\n",
              "    <script>\n",
              "      const buttonEl =\n",
              "        document.querySelector('#df-43e6a8bb-9e46-48e1-a241-83cb39d77a9a button.colab-df-convert');\n",
              "      buttonEl.style.display =\n",
              "        google.colab.kernel.accessAllowed ? 'block' : 'none';\n",
              "\n",
              "      async function convertToInteractive(key) {\n",
              "        const element = document.querySelector('#df-43e6a8bb-9e46-48e1-a241-83cb39d77a9a');\n",
              "        const dataTable =\n",
              "          await google.colab.kernel.invokeFunction('convertToInteractive',\n",
              "                                                    [key], {});\n",
              "        if (!dataTable) return;\n",
              "\n",
              "        const docLinkHtml = 'Like what you see? Visit the ' +\n",
              "          '<a target=\"_blank\" href=https://colab.research.google.com/notebooks/data_table.ipynb>data table notebook</a>'\n",
              "          + ' to learn more about interactive tables.';\n",
              "        element.innerHTML = '';\n",
              "        dataTable['output_type'] = 'display_data';\n",
              "        await google.colab.output.renderOutput(dataTable, element);\n",
              "        const docLink = document.createElement('div');\n",
              "        docLink.innerHTML = docLinkHtml;\n",
              "        element.appendChild(docLink);\n",
              "      }\n",
              "    </script>\n",
              "  </div>\n",
              "\n",
              "\n",
              "<div id=\"df-d78d0f52-2f62-4e44-ad91-4071657e2c1e\">\n",
              "  <button class=\"colab-df-quickchart\" onclick=\"quickchart('df-d78d0f52-2f62-4e44-ad91-4071657e2c1e')\"\n",
              "            title=\"Suggest charts\"\n",
              "            style=\"display:none;\">\n",
              "\n",
              "<svg xmlns=\"http://www.w3.org/2000/svg\" height=\"24px\"viewBox=\"0 0 24 24\"\n",
              "     width=\"24px\">\n",
              "    <g>\n",
              "        <path d=\"M19 3H5c-1.1 0-2 .9-2 2v14c0 1.1.9 2 2 2h14c1.1 0 2-.9 2-2V5c0-1.1-.9-2-2-2zM9 17H7v-7h2v7zm4 0h-2V7h2v10zm4 0h-2v-4h2v4z\"/>\n",
              "    </g>\n",
              "</svg>\n",
              "  </button>\n",
              "\n",
              "<style>\n",
              "  .colab-df-quickchart {\n",
              "      --bg-color: #E8F0FE;\n",
              "      --fill-color: #1967D2;\n",
              "      --hover-bg-color: #E2EBFA;\n",
              "      --hover-fill-color: #174EA6;\n",
              "      --disabled-fill-color: #AAA;\n",
              "      --disabled-bg-color: #DDD;\n",
              "  }\n",
              "\n",
              "  [theme=dark] .colab-df-quickchart {\n",
              "      --bg-color: #3B4455;\n",
              "      --fill-color: #D2E3FC;\n",
              "      --hover-bg-color: #434B5C;\n",
              "      --hover-fill-color: #FFFFFF;\n",
              "      --disabled-bg-color: #3B4455;\n",
              "      --disabled-fill-color: #666;\n",
              "  }\n",
              "\n",
              "  .colab-df-quickchart {\n",
              "    background-color: var(--bg-color);\n",
              "    border: none;\n",
              "    border-radius: 50%;\n",
              "    cursor: pointer;\n",
              "    display: none;\n",
              "    fill: var(--fill-color);\n",
              "    height: 32px;\n",
              "    padding: 0;\n",
              "    width: 32px;\n",
              "  }\n",
              "\n",
              "  .colab-df-quickchart:hover {\n",
              "    background-color: var(--hover-bg-color);\n",
              "    box-shadow: 0 1px 2px rgba(60, 64, 67, 0.3), 0 1px 3px 1px rgba(60, 64, 67, 0.15);\n",
              "    fill: var(--button-hover-fill-color);\n",
              "  }\n",
              "\n",
              "  .colab-df-quickchart-complete:disabled,\n",
              "  .colab-df-quickchart-complete:disabled:hover {\n",
              "    background-color: var(--disabled-bg-color);\n",
              "    fill: var(--disabled-fill-color);\n",
              "    box-shadow: none;\n",
              "  }\n",
              "\n",
              "  .colab-df-spinner {\n",
              "    border: 2px solid var(--fill-color);\n",
              "    border-color: transparent;\n",
              "    border-bottom-color: var(--fill-color);\n",
              "    animation:\n",
              "      spin 1s steps(1) infinite;\n",
              "  }\n",
              "\n",
              "  @keyframes spin {\n",
              "    0% {\n",
              "      border-color: transparent;\n",
              "      border-bottom-color: var(--fill-color);\n",
              "      border-left-color: var(--fill-color);\n",
              "    }\n",
              "    20% {\n",
              "      border-color: transparent;\n",
              "      border-left-color: var(--fill-color);\n",
              "      border-top-color: var(--fill-color);\n",
              "    }\n",
              "    30% {\n",
              "      border-color: transparent;\n",
              "      border-left-color: var(--fill-color);\n",
              "      border-top-color: var(--fill-color);\n",
              "      border-right-color: var(--fill-color);\n",
              "    }\n",
              "    40% {\n",
              "      border-color: transparent;\n",
              "      border-right-color: var(--fill-color);\n",
              "      border-top-color: var(--fill-color);\n",
              "    }\n",
              "    60% {\n",
              "      border-color: transparent;\n",
              "      border-right-color: var(--fill-color);\n",
              "    }\n",
              "    80% {\n",
              "      border-color: transparent;\n",
              "      border-right-color: var(--fill-color);\n",
              "      border-bottom-color: var(--fill-color);\n",
              "    }\n",
              "    90% {\n",
              "      border-color: transparent;\n",
              "      border-bottom-color: var(--fill-color);\n",
              "    }\n",
              "  }\n",
              "</style>\n",
              "\n",
              "  <script>\n",
              "    async function quickchart(key) {\n",
              "      const quickchartButtonEl =\n",
              "        document.querySelector('#' + key + ' button');\n",
              "      quickchartButtonEl.disabled = true;  // To prevent multiple clicks.\n",
              "      quickchartButtonEl.classList.add('colab-df-spinner');\n",
              "      try {\n",
              "        const charts = await google.colab.kernel.invokeFunction(\n",
              "            'suggestCharts', [key], {});\n",
              "      } catch (error) {\n",
              "        console.error('Error during call to suggestCharts:', error);\n",
              "      }\n",
              "      quickchartButtonEl.classList.remove('colab-df-spinner');\n",
              "      quickchartButtonEl.classList.add('colab-df-quickchart-complete');\n",
              "    }\n",
              "    (() => {\n",
              "      let quickchartButtonEl =\n",
              "        document.querySelector('#df-d78d0f52-2f62-4e44-ad91-4071657e2c1e button');\n",
              "      quickchartButtonEl.style.display =\n",
              "        google.colab.kernel.accessAllowed ? 'block' : 'none';\n",
              "    })();\n",
              "  </script>\n",
              "</div>\n",
              "\n",
              "    </div>\n",
              "  </div>\n"
            ],
            "application/vnd.google.colaboratory.intrinsic+json": {
              "type": "dataframe",
              "summary": "{\n  \"name\": \"df\",\n  \"rows\": 6,\n  \"fields\": [\n    {\n      \"column\": \"CustomerId\",\n      \"properties\": {\n        \"dtype\": \"number\",\n        \"std\": 1387,\n        \"min\": 413,\n        \"max\": 4204,\n        \"num_unique_values\": 6,\n        \"samples\": [\n          4204,\n          1695,\n          413\n        ],\n        \"semantic_type\": \"\",\n        \"description\": \"\"\n      }\n    },\n    {\n      \"column\": \"Surname\",\n      \"properties\": {\n        \"dtype\": \"number\",\n        \"std\": 1387,\n        \"min\": 413,\n        \"max\": 4204,\n        \"num_unique_values\": 6,\n        \"samples\": [\n          4204,\n          1695,\n          413\n        ],\n        \"semantic_type\": \"\",\n        \"description\": \"\"\n      }\n    },\n    {\n      \"column\": \"CreditScore\",\n      \"properties\": {\n        \"dtype\": \"number\",\n        \"std\": 1387,\n        \"min\": 413,\n        \"max\": 4204,\n        \"num_unique_values\": 6,\n        \"samples\": [\n          4204,\n          1695,\n          413\n        ],\n        \"semantic_type\": \"\",\n        \"description\": \"\"\n      }\n    },\n    {\n      \"column\": \"Gender\",\n      \"properties\": {\n        \"dtype\": \"number\",\n        \"std\": 1387,\n        \"min\": 413,\n        \"max\": 4204,\n        \"num_unique_values\": 6,\n        \"samples\": [\n          4204,\n          1695,\n          413\n        ],\n        \"semantic_type\": \"\",\n        \"description\": \"\"\n      }\n    },\n    {\n      \"column\": \"Age\",\n      \"properties\": {\n        \"dtype\": \"number\",\n        \"std\": 1387,\n        \"min\": 413,\n        \"max\": 4204,\n        \"num_unique_values\": 6,\n        \"samples\": [\n          4204,\n          1695,\n          413\n        ],\n        \"semantic_type\": \"\",\n        \"description\": \"\"\n      }\n    },\n    {\n      \"column\": \"Tenure\",\n      \"properties\": {\n        \"dtype\": \"number\",\n        \"std\": 1387,\n        \"min\": 413,\n        \"max\": 4204,\n        \"num_unique_values\": 6,\n        \"samples\": [\n          4204,\n          1695,\n          413\n        ],\n        \"semantic_type\": \"\",\n        \"description\": \"\"\n      }\n    },\n    {\n      \"column\": \"Balance\",\n      \"properties\": {\n        \"dtype\": \"number\",\n        \"std\": 1387,\n        \"min\": 413,\n        \"max\": 4204,\n        \"num_unique_values\": 6,\n        \"samples\": [\n          4204,\n          1695,\n          413\n        ],\n        \"semantic_type\": \"\",\n        \"description\": \"\"\n      }\n    },\n    {\n      \"column\": \"Num Of Products\",\n      \"properties\": {\n        \"dtype\": \"number\",\n        \"std\": 1387,\n        \"min\": 413,\n        \"max\": 4204,\n        \"num_unique_values\": 6,\n        \"samples\": [\n          4204,\n          1695,\n          413\n        ],\n        \"semantic_type\": \"\",\n        \"description\": \"\"\n      }\n    },\n    {\n      \"column\": \"Has Credit Card\",\n      \"properties\": {\n        \"dtype\": \"number\",\n        \"std\": 1387,\n        \"min\": 413,\n        \"max\": 4204,\n        \"num_unique_values\": 6,\n        \"samples\": [\n          4204,\n          1695,\n          413\n        ],\n        \"semantic_type\": \"\",\n        \"description\": \"\"\n      }\n    },\n    {\n      \"column\": \"Is Active Member\",\n      \"properties\": {\n        \"dtype\": \"number\",\n        \"std\": 1387,\n        \"min\": 413,\n        \"max\": 4204,\n        \"num_unique_values\": 6,\n        \"samples\": [\n          4204,\n          1695,\n          413\n        ],\n        \"semantic_type\": \"\",\n        \"description\": \"\"\n      }\n    },\n    {\n      \"column\": \"Estimated Salary\",\n      \"properties\": {\n        \"dtype\": \"number\",\n        \"std\": 1387,\n        \"min\": 413,\n        \"max\": 4204,\n        \"num_unique_values\": 6,\n        \"samples\": [\n          4204,\n          1695,\n          413\n        ],\n        \"semantic_type\": \"\",\n        \"description\": \"\"\n      }\n    }\n  ]\n}"
            }
          },
          "metadata": {},
          "execution_count": 290
        }
      ]
    },
    {
      "cell_type": "markdown",
      "source": [
        "# **Define Target Variable (y) and Feature Variables (X)**"
      ],
      "metadata": {
        "id": "LaBccKsMhrSJ"
      }
    },
    {
      "cell_type": "code",
      "source": [
        "df.columns"
      ],
      "metadata": {
        "colab": {
          "base_uri": "https://localhost:8080/"
        },
        "id": "rEuYANxMh56Z",
        "outputId": "5fbcbdf2-021f-4e98-850f-de3ab1402d0a"
      },
      "execution_count": null,
      "outputs": [
        {
          "output_type": "execute_result",
          "data": {
            "text/plain": [
              "Index(['CustomerId', 'Surname', 'CreditScore', 'Geography', 'Gender', 'Age',\n",
              "       'Tenure', 'Balance', 'Num Of Products', 'Has Credit Card',\n",
              "       'Is Active Member', 'Estimated Salary', 'Churn'],\n",
              "      dtype='object')"
            ]
          },
          "metadata": {},
          "execution_count": 291
        }
      ]
    },
    {
      "cell_type": "code",
      "source": [
        "X = df.drop(['Surname', 'Churn'], axis = 1)"
      ],
      "metadata": {
        "id": "r2tRtbnKiVuX"
      },
      "execution_count": null,
      "outputs": []
    },
    {
      "cell_type": "code",
      "source": [
        "y = df['Churn']"
      ],
      "metadata": {
        "id": "mFLbkR9qiX60"
      },
      "execution_count": null,
      "outputs": []
    },
    {
      "cell_type": "code",
      "source": [
        "X.shape, y.shape"
      ],
      "metadata": {
        "colab": {
          "base_uri": "https://localhost:8080/"
        },
        "id": "DjlJt6O0idGV",
        "outputId": "126690cb-c376-42b9-b282-8dc3e40c513a"
      },
      "execution_count": null,
      "outputs": [
        {
          "output_type": "execute_result",
          "data": {
            "text/plain": [
              "((10000, 11), (10000,))"
            ]
          },
          "metadata": {},
          "execution_count": 294
        }
      ]
    },
    {
      "cell_type": "markdown",
      "source": [
        "# **Handling Imbalance Data**"
      ],
      "metadata": {
        "id": "M190qKCBjHcS"
      }
    },
    {
      "cell_type": "markdown",
      "source": [
        "Class Imbalance is a common problem in machine learning, especially in classification problems as machine learning algorithms are designed to maximize accuracy and reduce errors. If the data set is imbalance then in such cases, just by predicting the majority class we get a pretty high accuracy, but fails to capture the minority class, which is most often the point of creating the model in the first place. like in\n",
        "\n",
        "1. **Fraud detection**\n",
        "2. **Spam filtering**\n",
        "3. **Disease screening**\n",
        "4. **Online sales churn**\n",
        "5. **Advertising click-throughs**"
      ],
      "metadata": {
        "id": "628goXCXjVnO"
      }
    },
    {
      "cell_type": "markdown",
      "source": [
        "# **Undersampling** can be defined as removing some observations of the majority class. This is done until the majority and minority class is balanced out.\n",
        "\n",
        "# Undersampling can be a good choice when you have a ton of data -think millions of rows. But a drawback to undersampling is that we are removing information that may be valuable.\n",
        "\n",
        "# In under-sampling, the simplest technique involves removing random records from the majority class, which can cause loss of information.\n",
        "\n",
        "# A drawback to consider when undersampling is that it can cause overfitting and poor generalization to your test set.\n",
        "\n",
        "# **Oversampling** can be defined as adding more copies to the minority class. Oversampling can be a good choice when you don't have a ton of data to work with.\n",
        "\n",
        "# The simplest implementation of over-sampling is to duplicate random records from the minorit class, which can cause overfiting.\n",
        "\n",
        "\n",
        "![YBI Foundation Machine Learning Project Image 1.jpg](data:image/jpeg;base64,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)"
      ],
      "metadata": {
        "id": "1Xwff6zPj4vD"
      }
    },
    {
      "cell_type": "code",
      "source": [
        "df['Churn'].value_counts()"
      ],
      "metadata": {
        "colab": {
          "base_uri": "https://localhost:8080/",
          "height": 178
        },
        "id": "ji6SrWUnl2CK",
        "outputId": "bb4b5707-7ed9-44c8-c7db-e834282372f3"
      },
      "execution_count": null,
      "outputs": [
        {
          "output_type": "execute_result",
          "data": {
            "text/plain": [
              "Churn\n",
              "0    7963\n",
              "1    2037\n",
              "Name: count, dtype: int64"
            ],
            "text/html": [
              "<div>\n",
              "<style scoped>\n",
              "    .dataframe tbody tr th:only-of-type {\n",
              "        vertical-align: middle;\n",
              "    }\n",
              "\n",
              "    .dataframe tbody tr th {\n",
              "        vertical-align: top;\n",
              "    }\n",
              "\n",
              "    .dataframe thead th {\n",
              "        text-align: right;\n",
              "    }\n",
              "</style>\n",
              "<table border=\"1\" class=\"dataframe\">\n",
              "  <thead>\n",
              "    <tr style=\"text-align: right;\">\n",
              "      <th></th>\n",
              "      <th>count</th>\n",
              "    </tr>\n",
              "    <tr>\n",
              "      <th>Churn</th>\n",
              "      <th></th>\n",
              "    </tr>\n",
              "  </thead>\n",
              "  <tbody>\n",
              "    <tr>\n",
              "      <th>0</th>\n",
              "      <td>7963</td>\n",
              "    </tr>\n",
              "    <tr>\n",
              "      <th>1</th>\n",
              "      <td>2037</td>\n",
              "    </tr>\n",
              "  </tbody>\n",
              "</table>\n",
              "</div><br><label><b>dtype:</b> int64</label>"
            ]
          },
          "metadata": {},
          "execution_count": 295
        }
      ]
    },
    {
      "cell_type": "code",
      "source": [
        "sns.countplot(x = 'Churn', data = df);"
      ],
      "metadata": {
        "colab": {
          "base_uri": "https://localhost:8080/",
          "height": 449
        },
        "id": "uZKCa8gKp-1a",
        "outputId": "5fd0cb9e-e8cc-464f-bc93-3b77c03716aa"
      },
      "execution_count": null,
      "outputs": [
        {
          "output_type": "display_data",
          "data": {
            "text/plain": [
              "<Figure size 640x480 with 1 Axes>"
            ],
            "image/png": "[encoded data removed]"
          },
          "metadata": {}
        }
      ]
    },
    {
      "cell_type": "code",
      "source": [
        "X.shape, y.shape"
      ],
      "metadata": {
        "colab": {
          "base_uri": "https://localhost:8080/"
        },
        "id": "1KVElJV6qSiJ",
        "outputId": "ff503637-ffa8-44ae-879f-4b50558ea252"
      },
      "execution_count": null,
      "outputs": [
        {
          "output_type": "execute_result",
          "data": {
            "text/plain": [
              "((10000, 11), (10000,))"
            ]
          },
          "metadata": {},
          "execution_count": 297
        }
      ]
    },
    {
      "cell_type": "markdown",
      "source": [
        "# **Random Under Sampling**"
      ],
      "metadata": {
        "id": "C2324zbUqjxs"
      }
    },
    {
      "cell_type": "code",
      "source": [
        "from imblearn.under_sampling import RandomUnderSampler"
      ],
      "metadata": {
        "id": "y_Bawhcxqphl"
      },
      "execution_count": null,
      "outputs": []
    },
    {
      "cell_type": "code",
      "source": [
        "rus = RandomUnderSampler (random_state=2529)"
      ],
      "metadata": {
        "id": "FtW3LORErrKO"
      },
      "execution_count": null,
      "outputs": []
    },
    {
      "cell_type": "code",
      "source": [
        "X_rus, y_rus = rus.fit_resample(X, y)"
      ],
      "metadata": {
        "id": "T3Adg3NOrvMv"
      },
      "execution_count": null,
      "outputs": []
    },
    {
      "cell_type": "code",
      "source": [
        "X_rus.shape, y_rus.shape, X.shape, y.shape"
      ],
      "metadata": {
        "colab": {
          "base_uri": "https://localhost:8080/"
        },
        "id": "8zV4Yx3LsAIN",
        "outputId": "9a8deb03-e902-4f77-f895-d0d31d7a7558"
      },
      "execution_count": null,
      "outputs": [
        {
          "output_type": "execute_result",
          "data": {
            "text/plain": [
              "((4074, 11), (4074,), (10000, 11), (10000,))"
            ]
          },
          "metadata": {},
          "execution_count": 301
        }
      ]
    },
    {
      "cell_type": "code",
      "source": [
        "y.value_counts()"
      ],
      "metadata": {
        "colab": {
          "base_uri": "https://localhost:8080/",
          "height": 178
        },
        "id": "KDukjbr8sH-a",
        "outputId": "e72ccdda-adfe-42a5-9477-a347b6b96c54"
      },
      "execution_count": null,
      "outputs": [
        {
          "output_type": "execute_result",
          "data": {
            "text/plain": [
              "Churn\n",
              "0    7963\n",
              "1    2037\n",
              "Name: count, dtype: int64"
            ],
            "text/html": [
              "<div>\n",
              "<style scoped>\n",
              "    .dataframe tbody tr th:only-of-type {\n",
              "        vertical-align: middle;\n",
              "    }\n",
              "\n",
              "    .dataframe tbody tr th {\n",
              "        vertical-align: top;\n",
              "    }\n",
              "\n",
              "    .dataframe thead th {\n",
              "        text-align: right;\n",
              "    }\n",
              "</style>\n",
              "<table border=\"1\" class=\"dataframe\">\n",
              "  <thead>\n",
              "    <tr style=\"text-align: right;\">\n",
              "      <th></th>\n",
              "      <th>count</th>\n",
              "    </tr>\n",
              "    <tr>\n",
              "      <th>Churn</th>\n",
              "      <th></th>\n",
              "    </tr>\n",
              "  </thead>\n",
              "  <tbody>\n",
              "    <tr>\n",
              "      <th>0</th>\n",
              "      <td>7963</td>\n",
              "    </tr>\n",
              "    <tr>\n",
              "      <th>1</th>\n",
              "      <td>2037</td>\n",
              "    </tr>\n",
              "  </tbody>\n",
              "</table>\n",
              "</div><br><label><b>dtype:</b> int64</label>"
            ]
          },
          "metadata": {},
          "execution_count": 302
        }
      ]
    },
    {
      "cell_type": "code",
      "source": [
        "y_rus.value_counts()"
      ],
      "metadata": {
        "colab": {
          "base_uri": "https://localhost:8080/",
          "height": 178
        },
        "id": "l-FhAL7asRGE",
        "outputId": "283d1f0e-2e90-43d9-9c4c-9c5beff74a92"
      },
      "execution_count": null,
      "outputs": [
        {
          "output_type": "execute_result",
          "data": {
            "text/plain": [
              "Churn\n",
              "0    2037\n",
              "1    2037\n",
              "Name: count, dtype: int64"
            ],
            "text/html": [
              "<div>\n",
              "<style scoped>\n",
              "    .dataframe tbody tr th:only-of-type {\n",
              "        vertical-align: middle;\n",
              "    }\n",
              "\n",
              "    .dataframe tbody tr th {\n",
              "        vertical-align: top;\n",
              "    }\n",
              "\n",
              "    .dataframe thead th {\n",
              "        text-align: right;\n",
              "    }\n",
              "</style>\n",
              "<table border=\"1\" class=\"dataframe\">\n",
              "  <thead>\n",
              "    <tr style=\"text-align: right;\">\n",
              "      <th></th>\n",
              "      <th>count</th>\n",
              "    </tr>\n",
              "    <tr>\n",
              "      <th>Churn</th>\n",
              "      <th></th>\n",
              "    </tr>\n",
              "  </thead>\n",
              "  <tbody>\n",
              "    <tr>\n",
              "      <th>0</th>\n",
              "      <td>2037</td>\n",
              "    </tr>\n",
              "    <tr>\n",
              "      <th>1</th>\n",
              "      <td>2037</td>\n",
              "    </tr>\n",
              "  </tbody>\n",
              "</table>\n",
              "</div><br><label><b>dtype:</b> int64</label>"
            ]
          },
          "metadata": {},
          "execution_count": 303
        }
      ]
    },
    {
      "cell_type": "code",
      "source": [
        "y_rus.plot(kind = 'hist')"
      ],
      "metadata": {
        "colab": {
          "base_uri": "https://localhost:8080/",
          "height": 447
        },
        "id": "oV4huH1YsmL0",
        "outputId": "5205a44a-6829-47fb-8e1c-a93efc77debd"
      },
      "execution_count": null,
      "outputs": [
        {
          "output_type": "execute_result",
          "data": {
            "text/plain": [
              "<Axes: ylabel='Frequency'>"
            ]
          },
          "metadata": {},
          "execution_count": 304
        },
        {
          "output_type": "display_data",
          "data": {
            "text/plain": [
              "<Figure size 640x480 with 1 Axes>"
            ],
            "image/png": "[encoded data removed]"
          },
          "metadata": {}
        }
      ]
    },
    {
      "cell_type": "markdown",
      "source": [
        "# **Random Over Sampling**"
      ],
      "metadata": {
        "id": "dM-lf1hwxMkj"
      }
    },
    {
      "cell_type": "code",
      "source": [
        "from imblearn.over_sampling import RandomOverSampler"
      ],
      "metadata": {
        "id": "8zhrdnRWxSRu"
      },
      "execution_count": null,
      "outputs": []
    },
    {
      "cell_type": "code",
      "source": [
        "ros = RandomOverSampler (random_state=2529)"
      ],
      "metadata": {
        "id": "GQE-dtXUxf5P"
      },
      "execution_count": null,
      "outputs": []
    },
    {
      "cell_type": "code",
      "source": [
        "X_ros, y_ros = ros.fit_resample(X, y)"
      ],
      "metadata": {
        "id": "4tST3kcKxhpq"
      },
      "execution_count": null,
      "outputs": []
    },
    {
      "cell_type": "code",
      "source": [
        "X_ros.shape, y_ros.shape, X.shape, y.shape"
      ],
      "metadata": {
        "colab": {
          "base_uri": "https://localhost:8080/"
        },
        "id": "lFZ_pFyKxk_5",
        "outputId": "5ebb60a6-8018-4508-b64f-0351bef6df82"
      },
      "execution_count": null,
      "outputs": [
        {
          "output_type": "execute_result",
          "data": {
            "text/plain": [
              "((15926, 11), (15926,), (10000, 11), (10000,))"
            ]
          },
          "metadata": {},
          "execution_count": 308
        }
      ]
    },
    {
      "cell_type": "code",
      "source": [
        "y.value_counts()"
      ],
      "metadata": {
        "colab": {
          "base_uri": "https://localhost:8080/",
          "height": 178
        },
        "id": "H0g75QLZxrsy",
        "outputId": "ec8d8cfb-d8fa-4b6e-81b5-ffc5c95d0acb"
      },
      "execution_count": null,
      "outputs": [
        {
          "output_type": "execute_result",
          "data": {
            "text/plain": [
              "Churn\n",
              "0    7963\n",
              "1    2037\n",
              "Name: count, dtype: int64"
            ],
            "text/html": [
              "<div>\n",
              "<style scoped>\n",
              "    .dataframe tbody tr th:only-of-type {\n",
              "        vertical-align: middle;\n",
              "    }\n",
              "\n",
              "    .dataframe tbody tr th {\n",
              "        vertical-align: top;\n",
              "    }\n",
              "\n",
              "    .dataframe thead th {\n",
              "        text-align: right;\n",
              "    }\n",
              "</style>\n",
              "<table border=\"1\" class=\"dataframe\">\n",
              "  <thead>\n",
              "    <tr style=\"text-align: right;\">\n",
              "      <th></th>\n",
              "      <th>count</th>\n",
              "    </tr>\n",
              "    <tr>\n",
              "      <th>Churn</th>\n",
              "      <th></th>\n",
              "    </tr>\n",
              "  </thead>\n",
              "  <tbody>\n",
              "    <tr>\n",
              "      <th>0</th>\n",
              "      <td>7963</td>\n",
              "    </tr>\n",
              "    <tr>\n",
              "      <th>1</th>\n",
              "      <td>2037</td>\n",
              "    </tr>\n",
              "  </tbody>\n",
              "</table>\n",
              "</div><br><label><b>dtype:</b> int64</label>"
            ]
          },
          "metadata": {},
          "execution_count": 309
        }
      ]
    },
    {
      "cell_type": "code",
      "source": [
        "y_ros.value_counts()"
      ],
      "metadata": {
        "colab": {
          "base_uri": "https://localhost:8080/",
          "height": 178
        },
        "id": "xZDVLsrOx9h9",
        "outputId": "e24a7d64-549f-47ab-a055-f85ca912d57e"
      },
      "execution_count": null,
      "outputs": [
        {
          "output_type": "execute_result",
          "data": {
            "text/plain": [
              "Churn\n",
              "1    7963\n",
              "0    7963\n",
              "Name: count, dtype: int64"
            ],
            "text/html": [
              "<div>\n",
              "<style scoped>\n",
              "    .dataframe tbody tr th:only-of-type {\n",
              "        vertical-align: middle;\n",
              "    }\n",
              "\n",
              "    .dataframe tbody tr th {\n",
              "        vertical-align: top;\n",
              "    }\n",
              "\n",
              "    .dataframe thead th {\n",
              "        text-align: right;\n",
              "    }\n",
              "</style>\n",
              "<table border=\"1\" class=\"dataframe\">\n",
              "  <thead>\n",
              "    <tr style=\"text-align: right;\">\n",
              "      <th></th>\n",
              "      <th>count</th>\n",
              "    </tr>\n",
              "    <tr>\n",
              "      <th>Churn</th>\n",
              "      <th></th>\n",
              "    </tr>\n",
              "  </thead>\n",
              "  <tbody>\n",
              "    <tr>\n",
              "      <th>1</th>\n",
              "      <td>7963</td>\n",
              "    </tr>\n",
              "    <tr>\n",
              "      <th>0</th>\n",
              "      <td>7963</td>\n",
              "    </tr>\n",
              "  </tbody>\n",
              "</table>\n",
              "</div><br><label><b>dtype:</b> int64</label>"
            ]
          },
          "metadata": {},
          "execution_count": 310
        }
      ]
    },
    {
      "cell_type": "code",
      "source": [
        "y_ros.plot(kind = 'hist')"
      ],
      "metadata": {
        "colab": {
          "base_uri": "https://localhost:8080/",
          "height": 447
        },
        "id": "Uhh2-E1syHPB",
        "outputId": "4c47b647-f8ed-401d-c550-908c02018138"
      },
      "execution_count": null,
      "outputs": [
        {
          "output_type": "execute_result",
          "data": {
            "text/plain": [
              "<Axes: ylabel='Frequency'>"
            ]
          },
          "metadata": {},
          "execution_count": 311
        },
        {
          "output_type": "display_data",
          "data": {
            "text/plain": [
              "<Figure size 640x480 with 1 Axes>"
            ],
            "image/png": "[encoded data removed]"
          },
          "metadata": {}
        }
      ]
    },
    {
      "cell_type": "markdown",
      "source": [
        "# **Train Test Split**"
      ],
      "metadata": {
        "id": "SWM64z80ypFu"
      }
    },
    {
      "cell_type": "code",
      "source": [
        "from sklearn.model_selection import train_test_split"
      ],
      "metadata": {
        "id": "wVUkRuF4yrpn"
      },
      "execution_count": null,
      "outputs": []
    },
    {
      "cell_type": "markdown",
      "source": [
        "# **Split Original Data**"
      ],
      "metadata": {
        "id": "b7kaVLNszt9r"
      }
    },
    {
      "cell_type": "code",
      "source": [
        "X_train,X_test,y_train,y_test=train_test_split(X,y,test_size=0.3,random_state=2529)"
      ],
      "metadata": {
        "id": "xtQ7D9n8zyip"
      },
      "execution_count": null,
      "outputs": []
    },
    {
      "cell_type": "markdown",
      "source": [
        "# **Split Random Under Table Data**"
      ],
      "metadata": {
        "id": "0xAX5mqW0cCG"
      }
    },
    {
      "cell_type": "code",
      "source": [
        "x_train_ros, x_test_ros, y_train_ros, y_test_ros = train_test_split(X_ros, y_ros, test_size=0.3, random_state=2529)"
      ],
      "metadata": {
        "id": "-wHIpeeg0jzT"
      },
      "execution_count": null,
      "outputs": []
    },
    {
      "cell_type": "markdown",
      "source": [
        "# **Split Random Over Table Data**"
      ],
      "metadata": {
        "id": "HTtkCxy81ULz"
      }
    },
    {
      "cell_type": "code",
      "source": [
        "x_train_rus, x_test_rus, y_train_rus, y_test_rus = train_test_split(X_rus, y_rus, test_size=0.3, random_state=2529)"
      ],
      "metadata": {
        "id": "ne-aIa4j1p_7"
      },
      "execution_count": null,
      "outputs": []
    },
    {
      "cell_type": "markdown",
      "source": [
        "# **Standardized Features**"
      ],
      "metadata": {
        "id": "SUaJ4ozs15SM"
      }
    },
    {
      "cell_type": "code",
      "source": [
        "from sklearn.preprocessing import StandardScaler"
      ],
      "metadata": {
        "id": "kQuROCGy2ALt"
      },
      "execution_count": null,
      "outputs": []
    },
    {
      "cell_type": "code",
      "source": [
        "sc = StandardScaler()"
      ],
      "metadata": {
        "id": "pPeCt9su2KBV"
      },
      "execution_count": null,
      "outputs": []
    },
    {
      "cell_type": "markdown",
      "source": [
        "# **Standardize Original Data**"
      ],
      "metadata": {
        "id": "aTjc4rSc2N0j"
      }
    },
    {
      "cell_type": "code",
      "source": [
        "from sklearn.preprocessing import StandardScaler\n",
        "\n",
        "data = {'CreditScore': [650, 700, 750],\n",
        "        'Age': [30, 40, 50],\n",
        "        'Tenure': [2, 5, 8],\n",
        "        'Balance': [10000, 50000, 100000],\n",
        "        'Estimated Salary': [50000, 75000, 100000]}\n",
        "\n",
        "x_train = pd.DataFrame(data)\n",
        "\n",
        "sc = StandardScaler()\n",
        "\n",
        "x_train[['CreditScore','Age','Tenure','Balance','Estimated Salary']] = sc.fit_transform(x_train[['CreditScore','Age','Tenure','Balance','Estimated Salary']])"
      ],
      "metadata": {
        "id": "dOa89uJW4cdz"
      },
      "execution_count": null,
      "outputs": []
    },
    {
      "cell_type": "code",
      "source": [
        "!pip install scikit-learn\n",
        "from sklearn.model_selection import train_test_split\n",
        "from sklearn.preprocessing import StandardScaler\n",
        "\n",
        "data = {'CreditScore': [650, 700, 750, 600, 800],\n",
        "        'Age': [30, 40, 50, 25, 60],\n",
        "        'Tenure': [2, 5, 8, 1, 10],\n",
        "        'Balance': [10000, 50000, 100000, 5000, 150000],\n",
        "        'Estimated Salary': [50000, 75000, 100000, 40000, 120000]}\n",
        "\n",
        "df = pd.DataFrame(data)\n",
        "\n",
        "x_train, x_test = train_test_split(df, test_size=0.2, random_state=42)\n",
        "\n",
        "sc = StandardScaler()\n",
        "\n",
        "x_train[['CreditScore','Age','Tenure','Balance','Estimated Salary']] = sc.fit_transform(x_train[['CreditScore','Age','Tenure','Balance','Estimated Salary']])\n",
        "\n",
        "x_test[['CreditScore','Age','Tenure','Balance','Estimated Salary']] = sc.transform(x_test[['CreditScore','Age','Tenure','Balance','Estimated Salary']])"
      ],
      "metadata": {
        "colab": {
          "base_uri": "https://localhost:8080/"
        },
        "id": "Hvv3mPTx42Ki",
        "outputId": "6fc5e883-b38a-4936-abc6-1abbb27ed664"
      },
      "execution_count": null,
      "outputs": [
        {
          "output_type": "stream",
          "name": "stdout",
          "text": [
            "Requirement already satisfied: scikit-learn in /usr/local/lib/python3.10/dist-packages (1.3.2)\n",
            "Requirement already satisfied: numpy<2.0,>=1.17.3 in /usr/local/lib/python3.10/dist-packages (from scikit-learn) (1.26.4)\n",
            "Requirement already satisfied: scipy>=1.5.0 in /usr/local/lib/python3.10/dist-packages (from scikit-learn) (1.13.1)\n",
            "Requirement already satisfied: joblib>=1.1.1 in /usr/local/lib/python3.10/dist-packages (from scikit-learn) (1.4.2)\n",
            "Requirement already satisfied: threadpoolctl>=2.0.0 in /usr/local/lib/python3.10/dist-packages (from scikit-learn) (3.5.0)\n"
          ]
        }
      ]
    },
    {
      "cell_type": "markdown",
      "source": [
        "# **Standardize the Random Undersampled Data**"
      ],
      "metadata": {
        "id": "U1IGaLGf5BUT"
      }
    },
    {
      "cell_type": "code",
      "source": [
        "x_train_rus[['CreditScore','Age','Tenure','Balance','Estimated Salary']] = sc.fit_transform(x_train_rus[['CreditScore','Age','Tenure','Balance','Estimated Salary']])"
      ],
      "metadata": {
        "id": "7AFs4Mr_5D_N"
      },
      "execution_count": null,
      "outputs": []
    },
    {
      "cell_type": "code",
      "source": [
        "x_test_rus[['CreditScore','Age','Tenure','Balance','Estimated Salary']] = sc.fit_transform(x_test_rus[['CreditScore','Age','Tenure','Balance','Estimated Salary']])"
      ],
      "metadata": {
        "id": "w-fhbdMW5SS5"
      },
      "execution_count": null,
      "outputs": []
    },
    {
      "cell_type": "markdown",
      "source": [
        "# **Standardize the Random Oversampled Data**"
      ],
      "metadata": {
        "id": "1I5bSBgg5hax"
      }
    },
    {
      "cell_type": "code",
      "source": [
        "x_train_ros[['CreditScore','Age','Tenure','Balance','Estimated Salary']] = sc.fit_transform(x_train_ros[['CreditScore','Age','Tenure','Balance','Estimated Salary']])"
      ],
      "metadata": {
        "id": "JrC4R7ca5j33"
      },
      "execution_count": null,
      "outputs": []
    },
    {
      "cell_type": "code",
      "source": [
        "x_test_ros[['CreditScore','Age','Tenure','Balance','Estimated Salary']] = sc.fit_transform(x_test_ros[['CreditScore','Age','Tenure','Balance','Estimated Salary']])"
      ],
      "metadata": {
        "id": "xDCF3c3U5owG"
      },
      "execution_count": null,
      "outputs": []
    },
    {
      "cell_type": "markdown",
      "source": [
        "# **Support Vector Machine Classifier**"
      ],
      "metadata": {
        "id": "gcakMEst58pl"
      }
    },
    {
      "cell_type": "code",
      "source": [
        "from sklearn.model_selection import train_test_split\n",
        "from sklearn.preprocessing import LabelEncoder\n",
        "from sklearn.svm import SVC"
      ],
      "metadata": {
        "id": "IPSua9XM6U0H"
      },
      "execution_count": null,
      "outputs": []
    },
    {
      "cell_type": "code",
      "source": [
        "svc = SVC()"
      ],
      "metadata": {
        "id": "Uwn3ky496dUj"
      },
      "execution_count": null,
      "outputs": []
    },
    {
      "cell_type": "code",
      "source": [
        "print(x_train.shape)\n",
        "print(y_train.shape)\n",
        "\n",
        "from sklearn.model_selection import train_test_split\n",
        "x_train, x_test, y_train, y_test = train_test_split(X, y, test_size=0.25, random_state=0)\n",
        "\n",
        "svc.fit(x_train,y_train)"
      ],
      "metadata": {
        "colab": {
          "base_uri": "https://localhost:8080/",
          "height": 109
        },
        "id": "-8uaNVso7yyF",
        "outputId": "c7f0f48a-08b2-4660-ad5b-87e91d5a0b67"
      },
      "execution_count": null,
      "outputs": [
        {
          "output_type": "stream",
          "name": "stdout",
          "text": [
            "(7500, 11)\n",
            "(7500,)\n"
          ]
        },
        {
          "output_type": "execute_result",
          "data": {
            "text/plain": [
              "SVC()"
            ],
            "text/html": [
              "<style>#sk-container-id-4 {color: black;}#sk-container-id-4 pre{padding: 0;}#sk-container-id-4 div.sk-toggleable {background-color: white;}#sk-container-id-4 label.sk-toggleable__label {cursor: pointer;display: block;width: 100%;margin-bottom: 0;padding: 0.3em;box-sizing: border-box;text-align: center;}#sk-container-id-4 label.sk-toggleable__label-arrow:before {content: \"▸\";float: left;margin-right: 0.25em;color: #696969;}#sk-container-id-4 label.sk-toggleable__label-arrow:hover:before {color: black;}#sk-container-id-4 div.sk-estimator:hover label.sk-toggleable__label-arrow:before {color: black;}#sk-container-id-4 div.sk-toggleable__content {max-height: 0;max-width: 0;overflow: hidden;text-align: left;background-color: #f0f8ff;}#sk-container-id-4 div.sk-toggleable__content pre {margin: 0.2em;color: black;border-radius: 0.25em;background-color: #f0f8ff;}#sk-container-id-4 input.sk-toggleable__control:checked~div.sk-toggleable__content {max-height: 200px;max-width: 100%;overflow: auto;}#sk-container-id-4 input.sk-toggleable__control:checked~label.sk-toggleable__label-arrow:before {content: \"▾\";}#sk-container-id-4 div.sk-estimator input.sk-toggleable__control:checked~label.sk-toggleable__label {background-color: #d4ebff;}#sk-container-id-4 div.sk-label input.sk-toggleable__control:checked~label.sk-toggleable__label {background-color: #d4ebff;}#sk-container-id-4 input.sk-hidden--visually {border: 0;clip: rect(1px 1px 1px 1px);clip: rect(1px, 1px, 1px, 1px);height: 1px;margin: -1px;overflow: hidden;padding: 0;position: absolute;width: 1px;}#sk-container-id-4 div.sk-estimator {font-family: monospace;background-color: #f0f8ff;border: 1px dotted black;border-radius: 0.25em;box-sizing: border-box;margin-bottom: 0.5em;}#sk-container-id-4 div.sk-estimator:hover {background-color: #d4ebff;}#sk-container-id-4 div.sk-parallel-item::after {content: \"\";width: 100%;border-bottom: 1px solid gray;flex-grow: 1;}#sk-container-id-4 div.sk-label:hover label.sk-toggleable__label {background-color: #d4ebff;}#sk-container-id-4 div.sk-serial::before {content: \"\";position: absolute;border-left: 1px solid gray;box-sizing: border-box;top: 0;bottom: 0;left: 50%;z-index: 0;}#sk-container-id-4 div.sk-serial {display: flex;flex-direction: column;align-items: center;background-color: white;padding-right: 0.2em;padding-left: 0.2em;position: relative;}#sk-container-id-4 div.sk-item {position: relative;z-index: 1;}#sk-container-id-4 div.sk-parallel {display: flex;align-items: stretch;justify-content: center;background-color: white;position: relative;}#sk-container-id-4 div.sk-item::before, #sk-container-id-4 div.sk-parallel-item::before {content: \"\";position: absolute;border-left: 1px solid gray;box-sizing: border-box;top: 0;bottom: 0;left: 50%;z-index: -1;}#sk-container-id-4 div.sk-parallel-item {display: flex;flex-direction: column;z-index: 1;position: relative;background-color: white;}#sk-container-id-4 div.sk-parallel-item:first-child::after {align-self: flex-end;width: 50%;}#sk-container-id-4 div.sk-parallel-item:last-child::after {align-self: flex-start;width: 50%;}#sk-container-id-4 div.sk-parallel-item:only-child::after {width: 0;}#sk-container-id-4 div.sk-dashed-wrapped {border: 1px dashed gray;margin: 0 0.4em 0.5em 0.4em;box-sizing: border-box;padding-bottom: 0.4em;background-color: white;}#sk-container-id-4 div.sk-label label {font-family: monospace;font-weight: bold;display: inline-block;line-height: 1.2em;}#sk-container-id-4 div.sk-label-container {text-align: center;}#sk-container-id-4 div.sk-container {/* jupyter's `normalize.less` sets `[hidden] { display: none; }` but bootstrap.min.css set `[hidden] { display: none !important; }` so we also need the `!important` here to be able to override the default hidden behavior on the sphinx rendered scikit-learn.org. See: https://github.com/scikit-learn/scikit-learn/issues/21755 */display: inline-block !important;position: relative;}#sk-container-id-4 div.sk-text-repr-fallback {display: none;}</style><div id=\"sk-container-id-4\" class=\"sk-top-container\"><div class=\"sk-text-repr-fallback\"><pre>SVC()</pre><b>In a Jupyter environment, please rerun this cell to show the HTML representation or trust the notebook. <br />On GitHub, the HTML representation is unable to render, please try loading this page with nbviewer.org.</b></div><div class=\"sk-container\" hidden><div class=\"sk-item\"><div class=\"sk-estimator sk-toggleable\"><input class=\"sk-toggleable__control sk-hidden--visually\" id=\"sk-estimator-id-6\" type=\"checkbox\" checked><label for=\"sk-estimator-id-6\" class=\"sk-toggleable__label sk-toggleable__label-arrow\">SVC</label><div class=\"sk-toggleable__content\"><pre>SVC()</pre></div></div></div></div></div>"
            ]
          },
          "metadata": {},
          "execution_count": 327
        }
      ]
    },
    {
      "cell_type": "code",
      "source": [
        "y_pred = svc.predict(x_test)\n",
        "y_pred"
      ],
      "metadata": {
        "colab": {
          "base_uri": "https://localhost:8080/"
        },
        "id": "yxlOP-aO72Iv",
        "outputId": "99cd8355-6883-4a9f-eca1-66907fd0cc33"
      },
      "execution_count": null,
      "outputs": [
        {
          "output_type": "execute_result",
          "data": {
            "text/plain": [
              "array([0, 0, 0, ..., 0, 0, 0])"
            ]
          },
          "metadata": {},
          "execution_count": 328
        }
      ]
    },
    {
      "cell_type": "markdown",
      "source": [
        "# **Model Accuracy**"
      ],
      "metadata": {
        "id": "MbN9_l8Z-EAQ"
      }
    },
    {
      "cell_type": "code",
      "source": [
        "from sklearn.metrics import confusion_matrix, classification_report"
      ],
      "metadata": {
        "id": "dfO4kbNs-HTQ"
      },
      "execution_count": null,
      "outputs": []
    },
    {
      "cell_type": "code",
      "source": [
        "confusion_matrix(y_test, y_pred)"
      ],
      "metadata": {
        "colab": {
          "base_uri": "https://localhost:8080/"
        },
        "id": "tM3gF-8S-eOm",
        "outputId": "6285b014-ad24-4a29-ba7d-8167978530f2"
      },
      "execution_count": null,
      "outputs": [
        {
          "output_type": "execute_result",
          "data": {
            "text/plain": [
              "array([[1991,    0],\n",
              "       [ 509,    0]])"
            ]
          },
          "metadata": {},
          "execution_count": 330
        }
      ]
    },
    {
      "cell_type": "code",
      "source": [
        "print(classification_report(y_test, y_pred))\n"
      ],
      "metadata": {
        "colab": {
          "base_uri": "https://localhost:8080/"
        },
        "id": "YsTss5Xl-tUY",
        "outputId": "7519cec3-bdaf-45a7-e749-555175aa32ec"
      },
      "execution_count": null,
      "outputs": [
        {
          "output_type": "stream",
          "name": "stdout",
          "text": [
            "              precision    recall  f1-score   support\n",
            "\n",
            "           0       0.80      1.00      0.89      1991\n",
            "           1       0.00      0.00      0.00       509\n",
            "\n",
            "    accuracy                           0.80      2500\n",
            "   macro avg       0.40      0.50      0.44      2500\n",
            "weighted avg       0.63      0.80      0.71      2500\n",
            "\n"
          ]
        },
        {
          "output_type": "stream",
          "name": "stderr",
          "text": [
            "/usr/local/lib/python3.10/dist-packages/sklearn/metrics/_classification.py:1471: UndefinedMetricWarning: Precision and F-score are ill-defined and being set to 0.0 in labels with no predicted samples. Use `zero_division` parameter to control this behavior.\n",
            "  _warn_prf(average, modifier, msg_start, len(result))\n",
            "/usr/local/lib/python3.10/dist-packages/sklearn/metrics/_classification.py:1471: UndefinedMetricWarning: Precision and F-score are ill-defined and being set to 0.0 in labels with no predicted samples. Use `zero_division` parameter to control this behavior.\n",
            "  _warn_prf(average, modifier, msg_start, len(result))\n",
            "/usr/local/lib/python3.10/dist-packages/sklearn/metrics/_classification.py:1471: UndefinedMetricWarning: Precision and F-score are ill-defined and being set to 0.0 in labels with no predicted samples. Use `zero_division` parameter to control this behavior.\n",
            "  _warn_prf(average, modifier, msg_start, len(result))\n"
          ]
        }
      ]
    },
    {
      "cell_type": "markdown",
      "source": [
        "# **Hyperparameter Tunning**"
      ],
      "metadata": {
        "id": "YJO0w0hH_BI4"
      }
    },
    {
      "cell_type": "code",
      "source": [
        "from sklearn.model_selection import GridSearchCV"
      ],
      "metadata": {
        "id": "xKRDkfwB_ID_"
      },
      "execution_count": null,
      "outputs": []
    },
    {
      "cell_type": "code",
      "source": [
        "param_grid = {'C': [0.1,1,10],\n",
        "              'gamma': [1,0.1,0.01],\n",
        "              'kernel': ['rbf'],\n",
        "              'class_weight': ['balanced']}"
      ],
      "metadata": {
        "id": "pviPcJtG_Wd5"
      },
      "execution_count": null,
      "outputs": []
    },
    {
      "cell_type": "code",
      "source": [
        "grid = GridSearchCV(SVC(),param_grid,refit=True, verbose=2, cv=2)"
      ],
      "metadata": {
        "id": "fUWv_w4G_dWU"
      },
      "execution_count": null,
      "outputs": []
    },
    {
      "cell_type": "code",
      "source": [
        "grid.fit(x_train,y_train)"
      ],
      "metadata": {
        "colab": {
          "base_uri": "https://localhost:8080/",
          "height": 446
        },
        "id": "dgcHr4E-_iiQ",
        "outputId": "e3aa5778-bae4-4af5-d8d9-e313f47f024b"
      },
      "execution_count": null,
      "outputs": [
        {
          "output_type": "stream",
          "name": "stdout",
          "text": [
            "Fitting 2 folds for each of 9 candidates, totalling 18 fits\n",
            "[CV] END ..C=0.1, class_weight=balanced, gamma=1, kernel=rbf; total time=   1.7s\n",
            "[CV] END ..C=0.1, class_weight=balanced, gamma=1, kernel=rbf; total time=   1.7s\n",
            "[CV] END C=0.1, class_weight=balanced, gamma=0.1, kernel=rbf; total time=   1.6s\n",
            "[CV] END C=0.1, class_weight=balanced, gamma=0.1, kernel=rbf; total time=   1.9s\n",
            "[CV] END C=0.1, class_weight=balanced, gamma=0.01, kernel=rbf; total time=   3.1s\n",
            "[CV] END C=0.1, class_weight=balanced, gamma=0.01, kernel=rbf; total time=   2.2s\n",
            "[CV] END ....C=1, class_weight=balanced, gamma=1, kernel=rbf; total time=   2.9s\n",
            "[CV] END ....C=1, class_weight=balanced, gamma=1, kernel=rbf; total time=   1.8s\n",
            "[CV] END ..C=1, class_weight=balanced, gamma=0.1, kernel=rbf; total time=   1.8s\n",
            "[CV] END ..C=1, class_weight=balanced, gamma=0.1, kernel=rbf; total time=   2.3s\n",
            "[CV] END .C=1, class_weight=balanced, gamma=0.01, kernel=rbf; total time=   3.2s\n",
            "[CV] END .C=1, class_weight=balanced, gamma=0.01, kernel=rbf; total time=   1.8s\n",
            "[CV] END ...C=10, class_weight=balanced, gamma=1, kernel=rbf; total time=   1.8s\n",
            "[CV] END ...C=10, class_weight=balanced, gamma=1, kernel=rbf; total time=   1.8s\n",
            "[CV] END .C=10, class_weight=balanced, gamma=0.1, kernel=rbf; total time=   1.8s\n",
            "[CV] END .C=10, class_weight=balanced, gamma=0.1, kernel=rbf; total time=   1.9s\n",
            "[CV] END C=10, class_weight=balanced, gamma=0.01, kernel=rbf; total time=   2.9s\n",
            "[CV] END C=10, class_weight=balanced, gamma=0.01, kernel=rbf; total time=   2.6s\n"
          ]
        },
        {
          "output_type": "execute_result",
          "data": {
            "text/plain": [
              "GridSearchCV(cv=2, estimator=SVC(),\n",
              "             param_grid={'C': [0.1, 1, 10], 'class_weight': ['balanced'],\n",
              "                         'gamma': [1, 0.1, 0.01], 'kernel': ['rbf']},\n",
              "             verbose=2)"
            ],
            "text/html": [
              "<style>#sk-container-id-5 {color: black;}#sk-container-id-5 pre{padding: 0;}#sk-container-id-5 div.sk-toggleable {background-color: white;}#sk-container-id-5 label.sk-toggleable__label {cursor: pointer;display: block;width: 100%;margin-bottom: 0;padding: 0.3em;box-sizing: border-box;text-align: center;}#sk-container-id-5 label.sk-toggleable__label-arrow:before {content: \"▸\";float: left;margin-right: 0.25em;color: #696969;}#sk-container-id-5 label.sk-toggleable__label-arrow:hover:before {color: black;}#sk-container-id-5 div.sk-estimator:hover label.sk-toggleable__label-arrow:before {color: black;}#sk-container-id-5 div.sk-toggleable__content {max-height: 0;max-width: 0;overflow: hidden;text-align: left;background-color: #f0f8ff;}#sk-container-id-5 div.sk-toggleable__content pre {margin: 0.2em;color: black;border-radius: 0.25em;background-color: #f0f8ff;}#sk-container-id-5 input.sk-toggleable__control:checked~div.sk-toggleable__content {max-height: 200px;max-width: 100%;overflow: auto;}#sk-container-id-5 input.sk-toggleable__control:checked~label.sk-toggleable__label-arrow:before {content: \"▾\";}#sk-container-id-5 div.sk-estimator input.sk-toggleable__control:checked~label.sk-toggleable__label {background-color: #d4ebff;}#sk-container-id-5 div.sk-label input.sk-toggleable__control:checked~label.sk-toggleable__label {background-color: #d4ebff;}#sk-container-id-5 input.sk-hidden--visually {border: 0;clip: rect(1px 1px 1px 1px);clip: rect(1px, 1px, 1px, 1px);height: 1px;margin: -1px;overflow: hidden;padding: 0;position: absolute;width: 1px;}#sk-container-id-5 div.sk-estimator {font-family: monospace;background-color: #f0f8ff;border: 1px dotted black;border-radius: 0.25em;box-sizing: border-box;margin-bottom: 0.5em;}#sk-container-id-5 div.sk-estimator:hover {background-color: #d4ebff;}#sk-container-id-5 div.sk-parallel-item::after {content: \"\";width: 100%;border-bottom: 1px solid gray;flex-grow: 1;}#sk-container-id-5 div.sk-label:hover label.sk-toggleable__label {background-color: #d4ebff;}#sk-container-id-5 div.sk-serial::before {content: \"\";position: absolute;border-left: 1px solid gray;box-sizing: border-box;top: 0;bottom: 0;left: 50%;z-index: 0;}#sk-container-id-5 div.sk-serial {display: flex;flex-direction: column;align-items: center;background-color: white;padding-right: 0.2em;padding-left: 0.2em;position: relative;}#sk-container-id-5 div.sk-item {position: relative;z-index: 1;}#sk-container-id-5 div.sk-parallel {display: flex;align-items: stretch;justify-content: center;background-color: white;position: relative;}#sk-container-id-5 div.sk-item::before, #sk-container-id-5 div.sk-parallel-item::before {content: \"\";position: absolute;border-left: 1px solid gray;box-sizing: border-box;top: 0;bottom: 0;left: 50%;z-index: -1;}#sk-container-id-5 div.sk-parallel-item {display: flex;flex-direction: column;z-index: 1;position: relative;background-color: white;}#sk-container-id-5 div.sk-parallel-item:first-child::after {align-self: flex-end;width: 50%;}#sk-container-id-5 div.sk-parallel-item:last-child::after {align-self: flex-start;width: 50%;}#sk-container-id-5 div.sk-parallel-item:only-child::after {width: 0;}#sk-container-id-5 div.sk-dashed-wrapped {border: 1px dashed gray;margin: 0 0.4em 0.5em 0.4em;box-sizing: border-box;padding-bottom: 0.4em;background-color: white;}#sk-container-id-5 div.sk-label label {font-family: monospace;font-weight: bold;display: inline-block;line-height: 1.2em;}#sk-container-id-5 div.sk-label-container {text-align: center;}#sk-container-id-5 div.sk-container {/* jupyter's `normalize.less` sets `[hidden] { display: none; }` but bootstrap.min.css set `[hidden] { display: none !important; }` so we also need the `!important` here to be able to override the default hidden behavior on the sphinx rendered scikit-learn.org. See: https://github.com/scikit-learn/scikit-learn/issues/21755 */display: inline-block !important;position: relative;}#sk-container-id-5 div.sk-text-repr-fallback {display: none;}</style><div id=\"sk-container-id-5\" class=\"sk-top-container\"><div class=\"sk-text-repr-fallback\"><pre>GridSearchCV(cv=2, estimator=SVC(),\n",
              "             param_grid={&#x27;C&#x27;: [0.1, 1, 10], &#x27;class_weight&#x27;: [&#x27;balanced&#x27;],\n",
              "                         &#x27;gamma&#x27;: [1, 0.1, 0.01], &#x27;kernel&#x27;: [&#x27;rbf&#x27;]},\n",
              "             verbose=2)</pre><b>In a Jupyter environment, please rerun this cell to show the HTML representation or trust the notebook. <br />On GitHub, the HTML representation is unable to render, please try loading this page with nbviewer.org.</b></div><div class=\"sk-container\" hidden><div class=\"sk-item sk-dashed-wrapped\"><div class=\"sk-label-container\"><div class=\"sk-label sk-toggleable\"><input class=\"sk-toggleable__control sk-hidden--visually\" id=\"sk-estimator-id-7\" type=\"checkbox\" ><label for=\"sk-estimator-id-7\" class=\"sk-toggleable__label sk-toggleable__label-arrow\">GridSearchCV</label><div class=\"sk-toggleable__content\"><pre>GridSearchCV(cv=2, estimator=SVC(),\n",
              "             param_grid={&#x27;C&#x27;: [0.1, 1, 10], &#x27;class_weight&#x27;: [&#x27;balanced&#x27;],\n",
              "                         &#x27;gamma&#x27;: [1, 0.1, 0.01], &#x27;kernel&#x27;: [&#x27;rbf&#x27;]},\n",
              "             verbose=2)</pre></div></div></div><div class=\"sk-parallel\"><div class=\"sk-parallel-item\"><div class=\"sk-item\"><div class=\"sk-label-container\"><div class=\"sk-label sk-toggleable\"><input class=\"sk-toggleable__control sk-hidden--visually\" id=\"sk-estimator-id-8\" type=\"checkbox\" ><label for=\"sk-estimator-id-8\" class=\"sk-toggleable__label sk-toggleable__label-arrow\">estimator: SVC</label><div class=\"sk-toggleable__content\"><pre>SVC()</pre></div></div></div><div class=\"sk-serial\"><div class=\"sk-item\"><div class=\"sk-estimator sk-toggleable\"><input class=\"sk-toggleable__control sk-hidden--visually\" id=\"sk-estimator-id-9\" type=\"checkbox\" ><label for=\"sk-estimator-id-9\" class=\"sk-toggleable__label sk-toggleable__label-arrow\">SVC</label><div class=\"sk-toggleable__content\"><pre>SVC()</pre></div></div></div></div></div></div></div></div></div></div>"
            ]
          },
          "metadata": {},
          "execution_count": 335
        }
      ]
    },
    {
      "cell_type": "code",
      "source": [
        "print(grid.best_estimator_)"
      ],
      "metadata": {
        "colab": {
          "base_uri": "https://localhost:8080/"
        },
        "id": "Kh79D7nz_4K8",
        "outputId": "0a81491f-0a93-40d6-d69d-206072e8966d"
      },
      "execution_count": null,
      "outputs": [
        {
          "output_type": "stream",
          "name": "stdout",
          "text": [
            "SVC(C=0.1, class_weight='balanced', gamma=1)\n"
          ]
        }
      ]
    },
    {
      "cell_type": "code",
      "source": [
        "grid_predictions = grid.predict(x_test)"
      ],
      "metadata": {
        "id": "2qbQkct2_6QB"
      },
      "execution_count": null,
      "outputs": []
    },
    {
      "cell_type": "code",
      "source": [
        "confusion_matrix(y_test, grid_predictions)"
      ],
      "metadata": {
        "colab": {
          "base_uri": "https://localhost:8080/"
        },
        "id": "uYJBABwwAHCZ",
        "outputId": "33291af6-4c7a-4d8e-8e9d-aa45bf2da48a"
      },
      "execution_count": null,
      "outputs": [
        {
          "output_type": "execute_result",
          "data": {
            "text/plain": [
              "array([[1991,    0],\n",
              "       [ 509,    0]])"
            ]
          },
          "metadata": {},
          "execution_count": 264
        }
      ]
    },
    {
      "cell_type": "code",
      "source": [
        "print(classification_report(y_test,grid_predictions))"
      ],
      "metadata": {
        "colab": {
          "base_uri": "https://localhost:8080/"
        },
        "id": "nHOU5GYwAQGX",
        "outputId": "b4b2455e-930f-4942-e7fc-1f37fbbeba7d"
      },
      "execution_count": null,
      "outputs": [
        {
          "output_type": "stream",
          "name": "stdout",
          "text": [
            "              precision    recall  f1-score   support\n",
            "\n",
            "           0       0.80      1.00      0.89      1991\n",
            "           1       0.00      0.00      0.00       509\n",
            "\n",
            "    accuracy                           0.80      2500\n",
            "   macro avg       0.40      0.50      0.44      2500\n",
            "weighted avg       0.63      0.80      0.71      2500\n",
            "\n"
          ]
        },
        {
          "output_type": "stream",
          "name": "stderr",
          "text": [
            "/usr/local/lib/python3.10/dist-packages/sklearn/metrics/_classification.py:1471: UndefinedMetricWarning: Precision and F-score are ill-defined and being set to 0.0 in labels with no predicted samples. Use `zero_division` parameter to control this behavior.\n",
            "  _warn_prf(average, modifier, msg_start, len(result))\n",
            "/usr/local/lib/python3.10/dist-packages/sklearn/metrics/_classification.py:1471: UndefinedMetricWarning: Precision and F-score are ill-defined and being set to 0.0 in labels with no predicted samples. Use `zero_division` parameter to control this behavior.\n",
            "  _warn_prf(average, modifier, msg_start, len(result))\n",
            "/usr/local/lib/python3.10/dist-packages/sklearn/metrics/_classification.py:1471: UndefinedMetricWarning: Precision and F-score are ill-defined and being set to 0.0 in labels with no predicted samples. Use `zero_division` parameter to control this behavior.\n",
            "  _warn_prf(average, modifier, msg_start, len(result))\n"
          ]
        }
      ]
    },
    {
      "cell_type": "markdown",
      "source": [
        "# **Model With Random Under Sampling**"
      ],
      "metadata": {
        "id": "1oH1vXfZDhDl"
      }
    },
    {
      "cell_type": "code",
      "source": [
        "svc_rus = SVC()"
      ],
      "metadata": {
        "id": "ZI3f_jh0Dl_K"
      },
      "execution_count": null,
      "outputs": []
    },
    {
      "cell_type": "code",
      "source": [
        "!pip install scikit-learn\n",
        "from sklearn.preprocessing import OneHotEncoder\n",
        "ohe = OneHotEncoder()\n",
        "feature_array = ohe.fit_transform(x_train_rus[['Geography', 'Gender']]).toarray()\n",
        "\n",
        "#Optionally, you can convert the array back to a DataFrame\n",
        "features = pd.DataFrame(feature_array)\n",
        "x_train_rus = x_train_rus.drop(['Geography', 'Gender'], axis=1)\n",
        "x_train_rus = pd.concat([x_train_rus, features], axis=1)\n",
        "\n",
        "\n",
        "svc_rus.fit(x_train_rus,y_train_rus)"
      ],
      "metadata": {
        "colab": {
          "base_uri": "https://localhost:8080/",
          "height": 480
        },
        "id": "t9AKKxHmD4eZ",
        "outputId": "d364d4cc-11e0-4dc2-f4d9-d2de9a518738"
      },
      "execution_count": null,
      "outputs": [
        {
          "output_type": "stream",
          "name": "stdout",
          "text": [
            "Requirement already satisfied: scikit-learn in /usr/local/lib/python3.10/dist-packages (1.3.2)\n",
            "Requirement already satisfied: numpy<2.0,>=1.17.3 in /usr/local/lib/python3.10/dist-packages (from scikit-learn) (1.26.4)\n",
            "Requirement already satisfied: scipy>=1.5.0 in /usr/local/lib/python3.10/dist-packages (from scikit-learn) (1.13.1)\n",
            "Requirement already satisfied: joblib>=1.1.1 in /usr/local/lib/python3.10/dist-packages (from scikit-learn) (1.4.2)\n",
            "Requirement already satisfied: threadpoolctl>=2.0.0 in /usr/local/lib/python3.10/dist-packages (from scikit-learn) (3.5.0)\n"
          ]
        },
        {
          "output_type": "error",
          "ename": "TypeError",
          "evalue": "Feature names are only supported if all input features have string names, but your input has ['int', 'str'] as feature name / column name types. If you want feature names to be stored and validated, you must convert them all to strings, by using X.columns = X.columns.astype(str) for example. Otherwise you can remove feature / column names from your input data, or convert them all to a non-string data type.",
          "traceback": [
            "\u001b[0;31m---------------------------------------------------------------------------\u001b[0m",
            "\u001b[0;31mTypeError\u001b[0m                                 Traceback (most recent call last)",
            "\u001b[0;32m<ipython-input-343-0e45f7482bdc>\u001b[0m in \u001b[0;36m<cell line: 12>\u001b[0;34m()\u001b[0m\n\u001b[1;32m     10\u001b[0m \u001b[0;34m\u001b[0m\u001b[0m\n\u001b[1;32m     11\u001b[0m \u001b[0;34m\u001b[0m\u001b[0m\n\u001b[0;32m---> 12\u001b[0;31m \u001b[0msvc_rus\u001b[0m\u001b[0;34m.\u001b[0m\u001b[0mfit\u001b[0m\u001b[0;34m(\u001b[0m\u001b[0mx_train_rus\u001b[0m\u001b[0;34m,\u001b[0m\u001b[0my_train_rus\u001b[0m\u001b[0;34m)\u001b[0m\u001b[0;34m\u001b[0m\u001b[0;34m\u001b[0m\u001b[0m\n\u001b[0m",
            "\u001b[0;32m/usr/local/lib/python3.10/dist-packages/sklearn/base.py\u001b[0m in \u001b[0;36mwrapper\u001b[0;34m(estimator, *args, **kwargs)\u001b[0m\n\u001b[1;32m   1150\u001b[0m                 )\n\u001b[1;32m   1151\u001b[0m             ):\n\u001b[0;32m-> 1152\u001b[0;31m                 \u001b[0;32mreturn\u001b[0m \u001b[0mfit_method\u001b[0m\u001b[0;34m(\u001b[0m\u001b[0mestimator\u001b[0m\u001b[0;34m,\u001b[0m \u001b[0;34m*\u001b[0m\u001b[0margs\u001b[0m\u001b[0;34m,\u001b[0m \u001b[0;34m**\u001b[0m\u001b[0mkwargs\u001b[0m\u001b[0;34m)\u001b[0m\u001b[0;34m\u001b[0m\u001b[0;34m\u001b[0m\u001b[0m\n\u001b[0m\u001b[1;32m   1153\u001b[0m \u001b[0;34m\u001b[0m\u001b[0m\n\u001b[1;32m   1154\u001b[0m         \u001b[0;32mreturn\u001b[0m \u001b[0mwrapper\u001b[0m\u001b[0;34m\u001b[0m\u001b[0;34m\u001b[0m\u001b[0m\n",
            "\u001b[0;32m/usr/local/lib/python3.10/dist-packages/sklearn/svm/_base.py\u001b[0m in \u001b[0;36mfit\u001b[0;34m(self, X, y, sample_weight)\u001b[0m\n\u001b[1;32m    188\u001b[0m             \u001b[0mcheck_consistent_length\u001b[0m\u001b[0;34m(\u001b[0m\u001b[0mX\u001b[0m\u001b[0;34m,\u001b[0m \u001b[0my\u001b[0m\u001b[0;34m)\u001b[0m\u001b[0;34m\u001b[0m\u001b[0;34m\u001b[0m\u001b[0m\n\u001b[1;32m    189\u001b[0m         \u001b[0;32melse\u001b[0m\u001b[0;34m:\u001b[0m\u001b[0;34m\u001b[0m\u001b[0;34m\u001b[0m\u001b[0m\n\u001b[0;32m--> 190\u001b[0;31m             X, y = self._validate_data(\n\u001b[0m\u001b[1;32m    191\u001b[0m                 \u001b[0mX\u001b[0m\u001b[0;34m,\u001b[0m\u001b[0;34m\u001b[0m\u001b[0;34m\u001b[0m\u001b[0m\n\u001b[1;32m    192\u001b[0m                 \u001b[0my\u001b[0m\u001b[0;34m,\u001b[0m\u001b[0;34m\u001b[0m\u001b[0;34m\u001b[0m\u001b[0m\n",
            "\u001b[0;32m/usr/local/lib/python3.10/dist-packages/sklearn/base.py\u001b[0m in \u001b[0;36m_validate_data\u001b[0;34m(self, X, y, reset, validate_separately, cast_to_ndarray, **check_params)\u001b[0m\n\u001b[1;32m    578\u001b[0m             \u001b[0mvalidated\u001b[0m\u001b[0;34m.\u001b[0m\u001b[0;34m\u001b[0m\u001b[0;34m\u001b[0m\u001b[0m\n\u001b[1;32m    579\u001b[0m         \"\"\"\n\u001b[0;32m--> 580\u001b[0;31m         \u001b[0mself\u001b[0m\u001b[0;34m.\u001b[0m\u001b[0m_check_feature_names\u001b[0m\u001b[0;34m(\u001b[0m\u001b[0mX\u001b[0m\u001b[0;34m,\u001b[0m \u001b[0mreset\u001b[0m\u001b[0;34m=\u001b[0m\u001b[0mreset\u001b[0m\u001b[0;34m)\u001b[0m\u001b[0;34m\u001b[0m\u001b[0;34m\u001b[0m\u001b[0m\n\u001b[0m\u001b[1;32m    581\u001b[0m \u001b[0;34m\u001b[0m\u001b[0m\n\u001b[1;32m    582\u001b[0m         \u001b[0;32mif\u001b[0m \u001b[0my\u001b[0m \u001b[0;32mis\u001b[0m \u001b[0;32mNone\u001b[0m \u001b[0;32mand\u001b[0m \u001b[0mself\u001b[0m\u001b[0;34m.\u001b[0m\u001b[0m_get_tags\u001b[0m\u001b[0;34m(\u001b[0m\u001b[0;34m)\u001b[0m\u001b[0;34m[\u001b[0m\u001b[0;34m\"requires_y\"\u001b[0m\u001b[0;34m]\u001b[0m\u001b[0;34m:\u001b[0m\u001b[0;34m\u001b[0m\u001b[0;34m\u001b[0m\u001b[0m\n",
            "\u001b[0;32m/usr/local/lib/python3.10/dist-packages/sklearn/base.py\u001b[0m in \u001b[0;36m_check_feature_names\u001b[0;34m(self, X, reset)\u001b[0m\n\u001b[1;32m    439\u001b[0m \u001b[0;34m\u001b[0m\u001b[0m\n\u001b[1;32m    440\u001b[0m         \u001b[0;32mif\u001b[0m \u001b[0mreset\u001b[0m\u001b[0;34m:\u001b[0m\u001b[0;34m\u001b[0m\u001b[0;34m\u001b[0m\u001b[0m\n\u001b[0;32m--> 441\u001b[0;31m             \u001b[0mfeature_names_in\u001b[0m \u001b[0;34m=\u001b[0m \u001b[0m_get_feature_names\u001b[0m\u001b[0;34m(\u001b[0m\u001b[0mX\u001b[0m\u001b[0;34m)\u001b[0m\u001b[0;34m\u001b[0m\u001b[0;34m\u001b[0m\u001b[0m\n\u001b[0m\u001b[1;32m    442\u001b[0m             \u001b[0;32mif\u001b[0m \u001b[0mfeature_names_in\u001b[0m \u001b[0;32mis\u001b[0m \u001b[0;32mnot\u001b[0m \u001b[0;32mNone\u001b[0m\u001b[0;34m:\u001b[0m\u001b[0;34m\u001b[0m\u001b[0;34m\u001b[0m\u001b[0m\n\u001b[1;32m    443\u001b[0m                 \u001b[0mself\u001b[0m\u001b[0;34m.\u001b[0m\u001b[0mfeature_names_in_\u001b[0m \u001b[0;34m=\u001b[0m \u001b[0mfeature_names_in\u001b[0m\u001b[0;34m\u001b[0m\u001b[0;34m\u001b[0m\u001b[0m\n",
            "\u001b[0;32m/usr/local/lib/python3.10/dist-packages/sklearn/utils/validation.py\u001b[0m in \u001b[0;36m_get_feature_names\u001b[0;34m(X)\u001b[0m\n\u001b[1;32m   2018\u001b[0m     \u001b[0;31m# mixed type of string and non-string is not supported\u001b[0m\u001b[0;34m\u001b[0m\u001b[0;34m\u001b[0m\u001b[0m\n\u001b[1;32m   2019\u001b[0m     \u001b[0;32mif\u001b[0m \u001b[0mlen\u001b[0m\u001b[0;34m(\u001b[0m\u001b[0mtypes\u001b[0m\u001b[0;34m)\u001b[0m \u001b[0;34m>\u001b[0m \u001b[0;36m1\u001b[0m \u001b[0;32mand\u001b[0m \u001b[0;34m\"str\"\u001b[0m \u001b[0;32min\u001b[0m \u001b[0mtypes\u001b[0m\u001b[0;34m:\u001b[0m\u001b[0;34m\u001b[0m\u001b[0;34m\u001b[0m\u001b[0m\n\u001b[0;32m-> 2020\u001b[0;31m         raise TypeError(\n\u001b[0m\u001b[1;32m   2021\u001b[0m             \u001b[0;34m\"Feature names are only supported if all input features have string names, \"\u001b[0m\u001b[0;34m\u001b[0m\u001b[0;34m\u001b[0m\u001b[0m\n\u001b[1;32m   2022\u001b[0m             \u001b[0;34mf\"but your input has {types} as feature name / column name types. \"\u001b[0m\u001b[0;34m\u001b[0m\u001b[0;34m\u001b[0m\u001b[0m\n",
            "\u001b[0;31mTypeError\u001b[0m: Feature names are only supported if all input features have string names, but your input has ['int', 'str'] as feature name / column name types. If you want feature names to be stored and validated, you must convert them all to strings, by using X.columns = X.columns.astype(str) for example. Otherwise you can remove feature / column names from your input data, or convert them all to a non-string data type."
          ]
        }
      ]
    },
    {
      "cell_type": "code",
      "source": [
        "svc_rus.fit(x_train_rus,y_train_rus)"
      ],
      "metadata": {
        "colab": {
          "base_uri": "https://localhost:8080/",
          "height": 408
        },
        "id": "V1SKGb6JEJ_C",
        "outputId": "3845ffdc-7604-451e-f151-01de0be20b11"
      },
      "execution_count": null,
      "outputs": [
        {
          "output_type": "error",
          "ename": "ValueError",
          "evalue": "Input X contains NaN.\nSVC does not accept missing values encoded as NaN natively. For supervised learning, you might want to consider sklearn.ensemble.HistGradientBoostingClassifier and Regressor which accept missing values encoded as NaNs natively. Alternatively, it is possible to preprocess the data, for instance by using an imputer transformer in a pipeline or drop samples with missing values. See https://scikit-learn.org/stable/modules/impute.html You can find a list of all estimators that handle NaN values at the following page: https://scikit-learn.org/stable/modules/impute.html#estimators-that-handle-nan-values",
          "traceback": [
            "\u001b[0;31m---------------------------------------------------------------------------\u001b[0m",
            "\u001b[0;31mValueError\u001b[0m                                Traceback (most recent call last)",
            "\u001b[0;32m<ipython-input-364-831add1f19be>\u001b[0m in \u001b[0;36m<cell line: 1>\u001b[0;34m()\u001b[0m\n\u001b[0;32m----> 1\u001b[0;31m \u001b[0msvc_rus\u001b[0m\u001b[0;34m.\u001b[0m\u001b[0mfit\u001b[0m\u001b[0;34m(\u001b[0m\u001b[0mx_train_rus\u001b[0m\u001b[0;34m,\u001b[0m\u001b[0my_train_rus\u001b[0m\u001b[0;34m)\u001b[0m\u001b[0;34m\u001b[0m\u001b[0;34m\u001b[0m\u001b[0m\n\u001b[0m",
            "\u001b[0;32m/usr/local/lib/python3.10/dist-packages/sklearn/base.py\u001b[0m in \u001b[0;36mwrapper\u001b[0;34m(estimator, *args, **kwargs)\u001b[0m\n\u001b[1;32m   1150\u001b[0m                 )\n\u001b[1;32m   1151\u001b[0m             ):\n\u001b[0;32m-> 1152\u001b[0;31m                 \u001b[0;32mreturn\u001b[0m \u001b[0mfit_method\u001b[0m\u001b[0;34m(\u001b[0m\u001b[0mestimator\u001b[0m\u001b[0;34m,\u001b[0m \u001b[0;34m*\u001b[0m\u001b[0margs\u001b[0m\u001b[0;34m,\u001b[0m \u001b[0;34m**\u001b[0m\u001b[0mkwargs\u001b[0m\u001b[0;34m)\u001b[0m\u001b[0;34m\u001b[0m\u001b[0;34m\u001b[0m\u001b[0m\n\u001b[0m\u001b[1;32m   1153\u001b[0m \u001b[0;34m\u001b[0m\u001b[0m\n\u001b[1;32m   1154\u001b[0m         \u001b[0;32mreturn\u001b[0m \u001b[0mwrapper\u001b[0m\u001b[0;34m\u001b[0m\u001b[0;34m\u001b[0m\u001b[0m\n",
            "\u001b[0;32m/usr/local/lib/python3.10/dist-packages/sklearn/svm/_base.py\u001b[0m in \u001b[0;36mfit\u001b[0;34m(self, X, y, sample_weight)\u001b[0m\n\u001b[1;32m    188\u001b[0m             \u001b[0mcheck_consistent_length\u001b[0m\u001b[0;34m(\u001b[0m\u001b[0mX\u001b[0m\u001b[0;34m,\u001b[0m \u001b[0my\u001b[0m\u001b[0;34m)\u001b[0m\u001b[0;34m\u001b[0m\u001b[0;34m\u001b[0m\u001b[0m\n\u001b[1;32m    189\u001b[0m         \u001b[0;32melse\u001b[0m\u001b[0;34m:\u001b[0m\u001b[0;34m\u001b[0m\u001b[0;34m\u001b[0m\u001b[0m\n\u001b[0;32m--> 190\u001b[0;31m             X, y = self._validate_data(\n\u001b[0m\u001b[1;32m    191\u001b[0m                 \u001b[0mX\u001b[0m\u001b[0;34m,\u001b[0m\u001b[0;34m\u001b[0m\u001b[0;34m\u001b[0m\u001b[0m\n\u001b[1;32m    192\u001b[0m                 \u001b[0my\u001b[0m\u001b[0;34m,\u001b[0m\u001b[0;34m\u001b[0m\u001b[0;34m\u001b[0m\u001b[0m\n",
            "\u001b[0;32m/usr/local/lib/python3.10/dist-packages/sklearn/base.py\u001b[0m in \u001b[0;36m_validate_data\u001b[0;34m(self, X, y, reset, validate_separately, cast_to_ndarray, **check_params)\u001b[0m\n\u001b[1;32m    620\u001b[0m                 \u001b[0my\u001b[0m \u001b[0;34m=\u001b[0m \u001b[0mcheck_array\u001b[0m\u001b[0;34m(\u001b[0m\u001b[0my\u001b[0m\u001b[0;34m,\u001b[0m \u001b[0minput_name\u001b[0m\u001b[0;34m=\u001b[0m\u001b[0;34m\"y\"\u001b[0m\u001b[0;34m,\u001b[0m \u001b[0;34m**\u001b[0m\u001b[0mcheck_y_params\u001b[0m\u001b[0;34m)\u001b[0m\u001b[0;34m\u001b[0m\u001b[0;34m\u001b[0m\u001b[0m\n\u001b[1;32m    621\u001b[0m             \u001b[0;32melse\u001b[0m\u001b[0;34m:\u001b[0m\u001b[0;34m\u001b[0m\u001b[0;34m\u001b[0m\u001b[0m\n\u001b[0;32m--> 622\u001b[0;31m                 \u001b[0mX\u001b[0m\u001b[0;34m,\u001b[0m \u001b[0my\u001b[0m \u001b[0;34m=\u001b[0m \u001b[0mcheck_X_y\u001b[0m\u001b[0;34m(\u001b[0m\u001b[0mX\u001b[0m\u001b[0;34m,\u001b[0m \u001b[0my\u001b[0m\u001b[0;34m,\u001b[0m \u001b[0;34m**\u001b[0m\u001b[0mcheck_params\u001b[0m\u001b[0;34m)\u001b[0m\u001b[0;34m\u001b[0m\u001b[0;34m\u001b[0m\u001b[0m\n\u001b[0m\u001b[1;32m    623\u001b[0m             \u001b[0mout\u001b[0m \u001b[0;34m=\u001b[0m \u001b[0mX\u001b[0m\u001b[0;34m,\u001b[0m \u001b[0my\u001b[0m\u001b[0;34m\u001b[0m\u001b[0;34m\u001b[0m\u001b[0m\n\u001b[1;32m    624\u001b[0m \u001b[0;34m\u001b[0m\u001b[0m\n",
            "\u001b[0;32m/usr/local/lib/python3.10/dist-packages/sklearn/utils/validation.py\u001b[0m in \u001b[0;36mcheck_X_y\u001b[0;34m(X, y, accept_sparse, accept_large_sparse, dtype, order, copy, force_all_finite, ensure_2d, allow_nd, multi_output, ensure_min_samples, ensure_min_features, y_numeric, estimator)\u001b[0m\n\u001b[1;32m   1144\u001b[0m         )\n\u001b[1;32m   1145\u001b[0m \u001b[0;34m\u001b[0m\u001b[0m\n\u001b[0;32m-> 1146\u001b[0;31m     X = check_array(\n\u001b[0m\u001b[1;32m   1147\u001b[0m         \u001b[0mX\u001b[0m\u001b[0;34m,\u001b[0m\u001b[0;34m\u001b[0m\u001b[0;34m\u001b[0m\u001b[0m\n\u001b[1;32m   1148\u001b[0m         \u001b[0maccept_sparse\u001b[0m\u001b[0;34m=\u001b[0m\u001b[0maccept_sparse\u001b[0m\u001b[0;34m,\u001b[0m\u001b[0;34m\u001b[0m\u001b[0;34m\u001b[0m\u001b[0m\n",
            "\u001b[0;32m/usr/local/lib/python3.10/dist-packages/sklearn/utils/validation.py\u001b[0m in \u001b[0;36mcheck_array\u001b[0;34m(array, accept_sparse, accept_large_sparse, dtype, order, copy, force_all_finite, ensure_2d, allow_nd, ensure_min_samples, ensure_min_features, estimator, input_name)\u001b[0m\n\u001b[1;32m    955\u001b[0m \u001b[0;34m\u001b[0m\u001b[0m\n\u001b[1;32m    956\u001b[0m         \u001b[0;32mif\u001b[0m \u001b[0mforce_all_finite\u001b[0m\u001b[0;34m:\u001b[0m\u001b[0;34m\u001b[0m\u001b[0;34m\u001b[0m\u001b[0m\n\u001b[0;32m--> 957\u001b[0;31m             _assert_all_finite(\n\u001b[0m\u001b[1;32m    958\u001b[0m                 \u001b[0marray\u001b[0m\u001b[0;34m,\u001b[0m\u001b[0;34m\u001b[0m\u001b[0;34m\u001b[0m\u001b[0m\n\u001b[1;32m    959\u001b[0m                 \u001b[0minput_name\u001b[0m\u001b[0;34m=\u001b[0m\u001b[0minput_name\u001b[0m\u001b[0;34m,\u001b[0m\u001b[0;34m\u001b[0m\u001b[0;34m\u001b[0m\u001b[0m\n",
            "\u001b[0;32m/usr/local/lib/python3.10/dist-packages/sklearn/utils/validation.py\u001b[0m in \u001b[0;36m_assert_all_finite\u001b[0;34m(X, allow_nan, msg_dtype, estimator_name, input_name)\u001b[0m\n\u001b[1;32m    120\u001b[0m         \u001b[0;32mreturn\u001b[0m\u001b[0;34m\u001b[0m\u001b[0;34m\u001b[0m\u001b[0m\n\u001b[1;32m    121\u001b[0m \u001b[0;34m\u001b[0m\u001b[0m\n\u001b[0;32m--> 122\u001b[0;31m     _assert_all_finite_element_wise(\n\u001b[0m\u001b[1;32m    123\u001b[0m         \u001b[0mX\u001b[0m\u001b[0;34m,\u001b[0m\u001b[0;34m\u001b[0m\u001b[0;34m\u001b[0m\u001b[0m\n\u001b[1;32m    124\u001b[0m         \u001b[0mxp\u001b[0m\u001b[0;34m=\u001b[0m\u001b[0mxp\u001b[0m\u001b[0;34m,\u001b[0m\u001b[0;34m\u001b[0m\u001b[0;34m\u001b[0m\u001b[0m\n",
            "\u001b[0;32m/usr/local/lib/python3.10/dist-packages/sklearn/utils/validation.py\u001b[0m in \u001b[0;36m_assert_all_finite_element_wise\u001b[0;34m(X, xp, allow_nan, msg_dtype, estimator_name, input_name)\u001b[0m\n\u001b[1;32m    169\u001b[0m                 \u001b[0;34m\"#estimators-that-handle-nan-values\"\u001b[0m\u001b[0;34m\u001b[0m\u001b[0;34m\u001b[0m\u001b[0m\n\u001b[1;32m    170\u001b[0m             )\n\u001b[0;32m--> 171\u001b[0;31m         \u001b[0;32mraise\u001b[0m \u001b[0mValueError\u001b[0m\u001b[0;34m(\u001b[0m\u001b[0mmsg_err\u001b[0m\u001b[0;34m)\u001b[0m\u001b[0;34m\u001b[0m\u001b[0;34m\u001b[0m\u001b[0m\n\u001b[0m\u001b[1;32m    172\u001b[0m \u001b[0;34m\u001b[0m\u001b[0m\n\u001b[1;32m    173\u001b[0m \u001b[0;34m\u001b[0m\u001b[0m\n",
            "\u001b[0;31mValueError\u001b[0m: Input X contains NaN.\nSVC does not accept missing values encoded as NaN natively. For supervised learning, you might want to consider sklearn.ensemble.HistGradientBoostingClassifier and Regressor which accept missing values encoded as NaNs natively. Alternatively, it is possible to preprocess the data, for instance by using an imputer transformer in a pipeline or drop samples with missing values. See https://scikit-learn.org/stable/modules/impute.html You can find a list of all estimators that handle NaN values at the following page: https://scikit-learn.org/stable/modules/impute.html#estimators-that-handle-nan-values"
          ]
        }
      ]
    },
    {
      "cell_type": "markdown",
      "source": [
        "# **Model Accuracy**"
      ],
      "metadata": {
        "id": "DjV1z0h_Fs40"
      }
    },
    {
      "cell_type": "code",
      "source": [
        "confusion_matrix(y_test_rus, y_pred_rus)"
      ],
      "metadata": {
        "colab": {
          "base_uri": "https://localhost:8080/",
          "height": 141
        },
        "id": "vB4ElYVlFyKU",
        "outputId": "da0357ea-8cd9-4401-9d20-ebea009af64a"
      },
      "execution_count": null,
      "outputs": [
        {
          "output_type": "error",
          "ename": "NameError",
          "evalue": "name 'y_pred_rus' is not defined",
          "traceback": [
            "\u001b[0;31m---------------------------------------------------------------------------\u001b[0m",
            "\u001b[0;31mNameError\u001b[0m                                 Traceback (most recent call last)",
            "\u001b[0;32m<ipython-input-356-06077d74a4b2>\u001b[0m in \u001b[0;36m<cell line: 1>\u001b[0;34m()\u001b[0m\n\u001b[0;32m----> 1\u001b[0;31m \u001b[0mconfusion_matrix\u001b[0m\u001b[0;34m(\u001b[0m\u001b[0my_test_rus\u001b[0m\u001b[0;34m,\u001b[0m \u001b[0my_pred_rus\u001b[0m\u001b[0;34m)\u001b[0m\u001b[0;34m\u001b[0m\u001b[0;34m\u001b[0m\u001b[0m\n\u001b[0m",
            "\u001b[0;31mNameError\u001b[0m: name 'y_pred_rus' is not defined"
          ]
        }
      ]
    },
    {
      "cell_type": "code",
      "source": [
        "print(classification_report(y_test_rus,y_pred_rus))"
      ],
      "metadata": {
        "id": "VR0Gr6MdGmPm"
      },
      "execution_count": null,
      "outputs": []
    },
    {
      "cell_type": "markdown",
      "source": [
        "# **Hyperparameter Tunning**"
      ],
      "metadata": {
        "id": "ezWxohbSG3q4"
      }
    },
    {
      "cell_type": "code",
      "source": [
        "from sklearn.model_selection import GridSearchCV"
      ],
      "metadata": {
        "id": "brtV4DsCG-NI"
      },
      "execution_count": null,
      "outputs": []
    },
    {
      "cell_type": "code",
      "source": [
        "param_grid = {'C': [0.1,1,10],\n",
        "              'gamma': [1,0.1,0.01],\n",
        "              'kernel': ['rbf'],\n",
        "              'class_weight': ['balanced']}"
      ],
      "metadata": {
        "id": "XPrlRWz8HKLN"
      },
      "execution_count": null,
      "outputs": []
    },
    {
      "cell_type": "code",
      "source": [
        "grid_rus = GridSearchCV(SVC(),param_grid,refit=True, verbose=2, cv=2)"
      ],
      "metadata": {
        "id": "tFg0P5JlHP-C"
      },
      "execution_count": null,
      "outputs": []
    },
    {
      "cell_type": "code",
      "source": [
        "grid_rus.fit(x_train,y_train)"
      ],
      "metadata": {
        "id": "QHuhNOXyHXNJ"
      },
      "execution_count": null,
      "outputs": []
    },
    {
      "cell_type": "code",
      "source": [
        "print(grid_rus.best_estimator_)"
      ],
      "metadata": {
        "id": "5aTASvQCH8fe"
      },
      "execution_count": null,
      "outputs": []
    },
    {
      "cell_type": "code",
      "source": [
        "grid_predictions_rus = grid_rus.predict(x_test_rus)"
      ],
      "metadata": {
        "id": "u7Yo6KcdH-u2"
      },
      "execution_count": null,
      "outputs": []
    },
    {
      "cell_type": "code",
      "source": [
        "confusion_matrix(y_test_rus, grid_predictions_rus)"
      ],
      "metadata": {
        "id": "l4Z85EwAICwz"
      },
      "execution_count": null,
      "outputs": []
    },
    {
      "cell_type": "code",
      "source": [
        "print(classification_report(y_test_rus,grid_predictions_rus))"
      ],
      "metadata": {
        "id": "gnpwQTu8JvnJ"
      },
      "execution_count": null,
      "outputs": []
    },
    {
      "cell_type": "markdown",
      "source": [
        "# **Model With Random Over Sampling**"
      ],
      "metadata": {
        "id": "Z5oB5_SbKG18"
      }
    },
    {
      "cell_type": "code",
      "source": [
        "svc_ros = SVC()"
      ],
      "metadata": {
        "id": "SiLZgcdOKO-x"
      },
      "execution_count": null,
      "outputs": []
    },
    {
      "cell_type": "code",
      "source": [
        "svc_ros.fit(x_train_ros,y_train_ros)"
      ],
      "metadata": {
        "id": "5qgyCx9vKs9X"
      },
      "execution_count": null,
      "outputs": []
    },
    {
      "cell_type": "code",
      "source": [
        "y_pred_ros = svc_ros.predict(x_test_ros)"
      ],
      "metadata": {
        "id": "Of07h5viK-zg"
      },
      "execution_count": null,
      "outputs": []
    },
    {
      "cell_type": "markdown",
      "source": [
        "# **Model Accuracy**"
      ],
      "metadata": {
        "id": "FDFxPhlWLWyQ"
      }
    },
    {
      "cell_type": "code",
      "source": [
        "confusion_matrix(y_test_ros, y_pred_ros)"
      ],
      "metadata": {
        "id": "WxEh19vRLt84"
      },
      "execution_count": null,
      "outputs": []
    },
    {
      "cell_type": "code",
      "source": [
        "print(classification_report(y_test_ros, y_pred_ros))"
      ],
      "metadata": {
        "id": "ClMgn8jjL8PZ"
      },
      "execution_count": null,
      "outputs": []
    },
    {
      "cell_type": "markdown",
      "source": [
        "# **Hyperparameter Tunning**"
      ],
      "metadata": {
        "id": "3DJ0iWEtMG4x"
      }
    },
    {
      "cell_type": "code",
      "source": [
        "from sklearn.model_selection import GridSearchCV"
      ],
      "metadata": {
        "id": "h0EdKq0gMLgX"
      },
      "execution_count": null,
      "outputs": []
    },
    {
      "cell_type": "code",
      "source": [
        "param_grid = {'C': [0.1,1,10],\n",
        "              'gamma': [1,0.1,0.01],\n",
        "              'kernel': ['rbf'],\n",
        "              'class_weight': ['balanced']}"
      ],
      "metadata": {
        "id": "YvoW7uiONsa-"
      },
      "execution_count": null,
      "outputs": []
    },
    {
      "cell_type": "code",
      "source": [
        "grid_ros = GridSearchCV(SVC(),param_grid,refit=True, verbose=2, cv=2)"
      ],
      "metadata": {
        "id": "VzpW7amkN9nb"
      },
      "execution_count": null,
      "outputs": []
    },
    {
      "cell_type": "code",
      "source": [
        "grid_ros.fit(x_train_ros,y_train_ros)"
      ],
      "metadata": {
        "id": "ssZ-JGYoOR3U"
      },
      "execution_count": null,
      "outputs": []
    },
    {
      "cell_type": "code",
      "source": [
        "print(grid_ros.best_estimator_)"
      ],
      "metadata": {
        "id": "FzHuessUO1Wh"
      },
      "execution_count": null,
      "outputs": []
    },
    {
      "cell_type": "code",
      "source": [
        "grid_predictions_ros = grid_ros.predict(x_test_ros)"
      ],
      "metadata": {
        "id": "vwJj48VSO5vg"
      },
      "execution_count": null,
      "outputs": []
    },
    {
      "cell_type": "code",
      "source": [
        "confusion_matrix(y_test_ros, grid_predictions_ros)"
      ],
      "metadata": {
        "id": "G45YK7unPLj1"
      },
      "execution_count": null,
      "outputs": []
    },
    {
      "cell_type": "code",
      "source": [
        "print(classification_report(y_test_ros,grid_predictions_ros))"
      ],
      "metadata": {
        "id": "1s-t-FfIPdgN"
      },
      "execution_count": null,
      "outputs": []
    },
    {
      "cell_type": "markdown",
      "source": [
        "# **Model Evaluation**"
      ],
      "metadata": {
        "id": "fDhnFk3zSWAC"
      }
    },
    {
      "cell_type": "code",
      "source": [
        "print(classification_report(y_test,y_pred))"
      ],
      "metadata": {
        "id": "ib5L-pZdSaRw"
      },
      "execution_count": null,
      "outputs": []
    },
    {
      "cell_type": "code",
      "source": [
        "print(classification_report(y_test,grid_predictions))"
      ],
      "metadata": {
        "id": "o9-7FXF2VyhK"
      },
      "execution_count": null,
      "outputs": []
    },
    {
      "cell_type": "code",
      "source": [
        "print(classification_report(y_test_rus,grid_predictions_rus))"
      ],
      "metadata": {
        "id": "JmkkiGWvWCbu"
      },
      "execution_count": null,
      "outputs": []
    },
    {
      "cell_type": "code",
      "source": [
        "print(classification_report(y_test_rus,grid_predictions_rus))"
      ],
      "metadata": {
        "id": "yVfVUbNLWO67"
      },
      "execution_count": null,
      "outputs": []
    },
    {
      "cell_type": "code",
      "source": [
        "print(classification_report(y_test_ros,grid_predictions_ros))"
      ],
      "metadata": {
        "id": "lNP1_vo3WhU3"
      },
      "execution_count": null,
      "outputs": []
    },
    {
      "cell_type": "markdown",
      "source": [
        "# **Prediction**"
      ],
      "metadata": {
        "id": "Gvoko5WHXA4a"
      }
    },
    {
      "cell_type": "code",
      "source": [
        "confusion_matrix(y_test_ros, y_pred_ros)"
      ],
      "metadata": {
        "id": "02JbQ5UMXEAF"
      },
      "execution_count": null,
      "outputs": []
    },
    {
      "cell_type": "code",
      "source": [
        "print(classification_report(y_test_ros, y_pred_ros))"
      ],
      "metadata": {
        "id": "_Zbh6DtAXIy6"
      },
      "execution_count": null,
      "outputs": []
    },
    {
      "cell_type": "code",
      "source": [
        "from sklearn.metrics import accuracy_score\n",
        "\n",
        "accuracy_score(y_test_ros,y_pred_ros)"
      ],
      "metadata": {
        "id": "MMaQcYaKXN9L"
      },
      "execution_count": null,
      "outputs": []
    },
    {
      "cell_type": "markdown",
      "source": [
        "# **Explanation**"
      ],
      "metadata": {
        "id": "Ldr0LbraXc9B"
      }
    },
    {
      "cell_type": "markdown",
      "source": [
        "## In this project we have used SVM(Support Vector Machine) to classify the bank customers into the customers who are likely to leave the bank(close their account) using the dataset available corresponding to it. We have analysed the data and have performed required data encoding, performed proper data preprocessing and also have handled the data imbalance for the corresponding class by using the techniques like Random Under Sampling and Random Over Sampling. We also compared the accuracy of the SVM model by using actual data, random oversampled data and random undersampled data which came to be similar. Finally we perfomed hyperparameter tuning for improving the model and then performed the same for all the three cases of dataset and found by analysing the results that the accuracy of SVM model after hyperparameter tuning which was trained using random oversampled data was maximum. Hence, we concluded that the model trained with random oversampled data and after hyperparameter tuning is most accurate and practical to be used for the task."
      ],
      "metadata": {
        "id": "NWujTPEUXgQn"
      }
    }
  ]
}